{
 "cells": [
  {
   "cell_type": "markdown",
   "id": "08bf6932",
   "metadata": {},
   "source": [
    "# Backyard"
   ]
  },
  {
   "cell_type": "markdown",
   "id": "84cd09d5",
   "metadata": {
    "scrolled": false
   },
   "source": [
    "#### Try And except with catch error message"
   ]
  },
  {
   "cell_type": "code",
   "execution_count": 7,
   "id": "3106af92",
   "metadata": {
    "scrolled": true
   },
   "outputs": [
    {
     "name": "stdout",
     "output_type": "stream",
     "text": [
      "name 'Ahmed' is not defined\n"
     ]
    }
   ],
   "source": [
    "try:\n",
    "    print(Ahmed)\n",
    "except Exception as e:\n",
    "    print(e)"
   ]
  },
  {
   "cell_type": "code",
   "execution_count": 1,
   "id": "abcdcf63",
   "metadata": {},
   "outputs": [
    {
     "name": "stdout",
     "output_type": "stream",
     "text": [
      "Original list: [1, 20, 3, 4, 5]\n",
      "Shallow copy: [10, 2, 3, 4, 5]\n"
     ]
    }
   ],
   "source": [
    "original_list = [1, 2, 3, 4, 5]\n",
    "shallow_copy = original_list[:]  # Creating a shallow copy of the original_list\n",
    "\n",
    "# Modifying the shallow copy\n",
    "shallow_copy[0] = 10\n",
    "\n",
    "# Modifying the original list\n",
    "original_list[1] = 20\n",
    "\n",
    "print(\"Original list:\", original_list)  # Output: Original list: [1, 20, 3, 4, 5]\n",
    "print(\"Shallow copy:\", shallow_copy)    # Output: Shallow copy: [10, 2, 3, 4, 5]\n"
   ]
  },
  {
   "cell_type": "code",
   "execution_count": 3,
   "id": "49426bd8",
   "metadata": {},
   "outputs": [
    {
     "name": "stdout",
     "output_type": "stream",
     "text": [
      "Original list: [10, 20, 3, 4, 5]\n",
      "Shallow copy: [10, 20, 3, 4, 5]\n"
     ]
    }
   ],
   "source": [
    "original_list = [1, 2, 3, 4, 5]\n",
    "shallow_copy = original_list  # Creating a shallow copy of the original_list\n",
    "\n",
    "# Modifying the shallow copy\n",
    "shallow_copy[0] = 10\n",
    "\n",
    "# Modifying the original list\n",
    "original_list[1] = 20\n",
    "\n",
    "print(\"Original list:\", original_list)  # Output: Original list: [1, 20, 3, 4, 5]\n",
    "print(\"Shallow copy:\", shallow_copy)    # Output: Shallow copy: [10, 2, 3, 4, 5]\n"
   ]
  },
  {
   "cell_type": "code",
   "execution_count": 6,
   "id": "f35b120f",
   "metadata": {},
   "outputs": [
    {
     "name": "stdout",
     "output_type": "stream",
     "text": [
      "[1, 2]\n"
     ]
    }
   ],
   "source": [
    "print([1]+[2])"
   ]
  },
  {
   "cell_type": "code",
   "execution_count": 7,
   "id": "2c020dc0",
   "metadata": {},
   "outputs": [
    {
     "name": "stdout",
     "output_type": "stream",
     "text": [
      "[[1], [1, 2], [1, 2, 3], [2], [2, 3], [3]]\n"
     ]
    }
   ],
   "source": [
    "def find_combinations(test_list):\n",
    "    result = []  # Step 2\n",
    "\n",
    "    for i in range(len(test_list)):  # Step 3 (Outer Loop)\n",
    "        for j in range(i, len(test_list)):  # Step 3 (Inner Loop)\n",
    "            combination = test_list[i:j + 1]  # Step 4\n",
    "            result.append(combination)\n",
    "\n",
    "    return result  # Step 5\n",
    "\n",
    "# Test the function with the given input\n",
    "test_list = [1, 2, 3]\n",
    "output = find_combinations(test_list)\n",
    "print(output)"
   ]
  },
  {
   "cell_type": "code",
   "execution_count": null,
   "id": "5035e111",
   "metadata": {},
   "outputs": [],
   "source": []
  }
 ],
 "metadata": {
  "kernelspec": {
   "display_name": "Python 3",
   "language": "python",
   "name": "python3"
  },
  "language_info": {
   "codemirror_mode": {
    "name": "ipython",
    "version": 3
   },
   "file_extension": ".py",
   "mimetype": "text/x-python",
   "name": "python",
   "nbconvert_exporter": "python",
   "pygments_lexer": "ipython3",
   "version": "3.11.4"
  },
  "vscode": {
   "interpreter": {
    "hash": "ff4b1fca65a764b45acb559e482afe389d289dd599b9f8c5fd12ff5c2ea46a65"
   }
  }
 },
 "nbformat": 4,
 "nbformat_minor": 5
}
