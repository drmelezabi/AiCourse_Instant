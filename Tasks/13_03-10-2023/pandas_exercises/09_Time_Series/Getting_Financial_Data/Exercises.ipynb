{
 "cells": [
  {
   "cell_type": "markdown",
   "metadata": {},
   "source": [
    "# Getting Financial Data - Pandas Datareader"
   ]
  },
  {
   "cell_type": "markdown",
   "metadata": {},
   "source": [
    "### Introduction:\n",
    "\n",
    "This time you will get data from a website.\n",
    "\n",
    "\n",
    "### Step 1. Import the necessary libraries"
   ]
  },
  {
   "cell_type": "code",
   "execution_count": 166,
   "metadata": {},
   "outputs": [],
   "source": [
    "from datetime import datetime\n",
    "from pandas_datareader.data import DataReader\n",
    "import pandas as pd\n",
    "# VQHGLOHB0K0378SX - NDF3HGNI74EO1EWO"
   ]
  },
  {
   "cell_type": "markdown",
   "metadata": {},
   "source": [
    "### Step 2. Create your time range (start and end variables). The start date should be 01/01/2015 and the end should today (whatever your today is)."
   ]
  },
  {
   "cell_type": "code",
   "execution_count": 167,
   "metadata": {},
   "outputs": [],
   "source": [
    "d_format = \"%d/%m/%Y\"\n",
    "start_date_string = \"01/01/2015\"\n",
    "start_date = datetime.strptime(start_date_string,d_format)\n",
    "end_date_string = datetime.now().strftime(d_format)\n",
    "end_date = datetime.strptime(end_date_string,d_format)"
   ]
  },
  {
   "cell_type": "markdown",
   "metadata": {},
   "source": [
    "### Step 3. Get an API key for one of the APIs that are supported by Pandas Datareader, preferably for AlphaVantage.\n",
    "\n",
    "If you do not have an API key for any of the supported APIs, it is easiest to get one for [AlphaVantage](https://www.alphavantage.co/support/#api-key). (Note that the API key is shown directly after the signup. You do *not* receive it via e-mail.)\n",
    "\n",
    "(For a full list of the APIs that are supported by Pandas Datareader, [see here](https://pydata.github.io/pandas-datareader/readers/index.html). As the APIs are provided by third parties, this list may change.)"
   ]
  },
  {
   "cell_type": "markdown",
   "metadata": {},
   "source": [
    "### Step 4. Use Pandas Datarader to read the daily time series for the Apple stock (ticker symbol AAPL) between 01/01/2015 and today, assign it to df_apple and print it."
   ]
  },
  {
   "cell_type": "code",
   "execution_count": 170,
   "metadata": {},
   "outputs": [
    {
     "ename": "RemoteDataError",
     "evalue": " Their was an issue from the data vendor side, here is their response: {'Information': 'Thank you for using Alpha Vantage! Our standard API rate limit is 25 requests per day. Please subscribe to any of the premium plans at https://www.alphavantage.co/premium/ to instantly remove all daily rate limits.'}",
     "output_type": "error",
     "traceback": [
      "\u001b[1;31m---------------------------------------------------------------------------\u001b[0m",
      "\u001b[1;31mKeyError\u001b[0m                                  Traceback (most recent call last)",
      "File \u001b[1;32mc:\\ProgramData\\anaconda3\\Lib\\site-packages\\pandas_datareader\\av\\__init__.py:72\u001b[0m, in \u001b[0;36mAlphaVantage._read_lines\u001b[1;34m(self, out)\u001b[0m\n\u001b[0;32m     71\u001b[0m \u001b[39mtry\u001b[39;00m:\n\u001b[1;32m---> 72\u001b[0m     df \u001b[39m=\u001b[39m pd\u001b[39m.\u001b[39mDataFrame\u001b[39m.\u001b[39mfrom_dict(out[\u001b[39mself\u001b[39m\u001b[39m.\u001b[39mdata_key], orient\u001b[39m=\u001b[39m\u001b[39m\"\u001b[39m\u001b[39mindex\u001b[39m\u001b[39m\"\u001b[39m)\n\u001b[0;32m     73\u001b[0m \u001b[39mexcept\u001b[39;00m \u001b[39mKeyError\u001b[39;00m:\n",
      "\u001b[1;31mKeyError\u001b[0m: 'Time Series (Daily)'",
      "\nDuring handling of the above exception, another exception occurred:\n",
      "\u001b[1;31mRemoteDataError\u001b[0m                           Traceback (most recent call last)",
      "\u001b[1;32me:\\App\\Jupyter\\Tasks\\13_03-10-2023\\pandas_exercises\\09_Time_Series\\Getting_Financial_Data\\Exercises.ipynb Cell 8\u001b[0m line \u001b[0;36m1\n\u001b[1;32m----> <a href='vscode-notebook-cell:/e%3A/App/Jupyter/Tasks/13_03-10-2023/pandas_exercises/09_Time_Series/Getting_Financial_Data/Exercises.ipynb#X10sZmlsZQ%3D%3D?line=0'>1</a>\u001b[0m df_apple \u001b[39m=\u001b[39m DataReader(\u001b[39m\"\u001b[39m\u001b[39mAAPL\u001b[39m\u001b[39m\"\u001b[39m, \u001b[39m\"\u001b[39m\u001b[39mav-daily\u001b[39m\u001b[39m\"\u001b[39m, start\u001b[39m=\u001b[39mstart_date,end\u001b[39m=\u001b[39mend_date,api_key\u001b[39m=\u001b[39m\u001b[39m'\u001b[39m\u001b[39mNDF3HGNI74EO1EWO\u001b[39m\u001b[39m'\u001b[39m) \n\u001b[0;32m      <a href='vscode-notebook-cell:/e%3A/App/Jupyter/Tasks/13_03-10-2023/pandas_exercises/09_Time_Series/Getting_Financial_Data/Exercises.ipynb#X10sZmlsZQ%3D%3D?line=1'>2</a>\u001b[0m df_apple\u001b[39m.\u001b[39mindex\u001b[39m.\u001b[39mname \u001b[39m=\u001b[39m \u001b[39m'\u001b[39m\u001b[39mday\u001b[39m\u001b[39m'\u001b[39m\n\u001b[0;32m      <a href='vscode-notebook-cell:/e%3A/App/Jupyter/Tasks/13_03-10-2023/pandas_exercises/09_Time_Series/Getting_Financial_Data/Exercises.ipynb#X10sZmlsZQ%3D%3D?line=2'>3</a>\u001b[0m df_apple \u001b[39m=\u001b[39m df_apple\u001b[39m.\u001b[39mreset_index()\n",
      "File \u001b[1;32mc:\\ProgramData\\anaconda3\\Lib\\site-packages\\pandas\\util\\_decorators.py:211\u001b[0m, in \u001b[0;36mdeprecate_kwarg.<locals>._deprecate_kwarg.<locals>.wrapper\u001b[1;34m(*args, **kwargs)\u001b[0m\n\u001b[0;32m    209\u001b[0m     \u001b[39melse\u001b[39;00m:\n\u001b[0;32m    210\u001b[0m         kwargs[new_arg_name] \u001b[39m=\u001b[39m new_arg_value\n\u001b[1;32m--> 211\u001b[0m \u001b[39mreturn\u001b[39;00m func(\u001b[39m*\u001b[39margs, \u001b[39m*\u001b[39m\u001b[39m*\u001b[39mkwargs)\n",
      "File \u001b[1;32mc:\\ProgramData\\anaconda3\\Lib\\site-packages\\pandas_datareader\\data.py:577\u001b[0m, in \u001b[0;36mDataReader\u001b[1;34m(name, data_source, start, end, retry_count, pause, session, api_key)\u001b[0m\n\u001b[0;32m    556\u001b[0m     \u001b[39mreturn\u001b[39;00m AVTimeSeriesReader(\n\u001b[0;32m    557\u001b[0m         symbols\u001b[39m=\u001b[39mname,\n\u001b[0;32m    558\u001b[0m         function\u001b[39m=\u001b[39m\u001b[39m\"\u001b[39m\u001b[39mFX_DAILY\u001b[39m\u001b[39m\"\u001b[39m,\n\u001b[1;32m   (...)\u001b[0m\n\u001b[0;32m    564\u001b[0m         api_key\u001b[39m=\u001b[39mapi_key,\n\u001b[0;32m    565\u001b[0m     )\u001b[39m.\u001b[39mread()\n\u001b[0;32m    567\u001b[0m \u001b[39melif\u001b[39;00m data_source \u001b[39m==\u001b[39m \u001b[39m\"\u001b[39m\u001b[39mav-daily\u001b[39m\u001b[39m\"\u001b[39m:\n\u001b[0;32m    568\u001b[0m     \u001b[39mreturn\u001b[39;00m AVTimeSeriesReader(\n\u001b[0;32m    569\u001b[0m         symbols\u001b[39m=\u001b[39mname,\n\u001b[0;32m    570\u001b[0m         function\u001b[39m=\u001b[39m\u001b[39m\"\u001b[39m\u001b[39mTIME_SERIES_DAILY\u001b[39m\u001b[39m\"\u001b[39m,\n\u001b[0;32m    571\u001b[0m         start\u001b[39m=\u001b[39mstart,\n\u001b[0;32m    572\u001b[0m         end\u001b[39m=\u001b[39mend,\n\u001b[0;32m    573\u001b[0m         retry_count\u001b[39m=\u001b[39mretry_count,\n\u001b[0;32m    574\u001b[0m         pause\u001b[39m=\u001b[39mpause,\n\u001b[0;32m    575\u001b[0m         session\u001b[39m=\u001b[39msession,\n\u001b[0;32m    576\u001b[0m         api_key\u001b[39m=\u001b[39mapi_key,\n\u001b[1;32m--> 577\u001b[0m     )\u001b[39m.\u001b[39mread()\n\u001b[0;32m    579\u001b[0m \u001b[39melif\u001b[39;00m data_source \u001b[39m==\u001b[39m \u001b[39m\"\u001b[39m\u001b[39mav-daily-adjusted\u001b[39m\u001b[39m\"\u001b[39m:\n\u001b[0;32m    580\u001b[0m     \u001b[39mreturn\u001b[39;00m AVTimeSeriesReader(\n\u001b[0;32m    581\u001b[0m         symbols\u001b[39m=\u001b[39mname,\n\u001b[0;32m    582\u001b[0m         function\u001b[39m=\u001b[39m\u001b[39m\"\u001b[39m\u001b[39mTIME_SERIES_DAILY_ADJUSTED\u001b[39m\u001b[39m\"\u001b[39m,\n\u001b[1;32m   (...)\u001b[0m\n\u001b[0;32m    588\u001b[0m         api_key\u001b[39m=\u001b[39mapi_key,\n\u001b[0;32m    589\u001b[0m     )\u001b[39m.\u001b[39mread()\n",
      "File \u001b[1;32mc:\\ProgramData\\anaconda3\\Lib\\site-packages\\pandas_datareader\\base.py:101\u001b[0m, in \u001b[0;36m_BaseReader.read\u001b[1;34m(self)\u001b[0m\n\u001b[0;32m     99\u001b[0m \u001b[39m\u001b[39m\u001b[39m\"\"\"Read data from connector\"\"\"\u001b[39;00m\n\u001b[0;32m    100\u001b[0m \u001b[39mtry\u001b[39;00m:\n\u001b[1;32m--> 101\u001b[0m     \u001b[39mreturn\u001b[39;00m \u001b[39mself\u001b[39m\u001b[39m.\u001b[39m_read_one_data(\u001b[39mself\u001b[39m\u001b[39m.\u001b[39murl, \u001b[39mself\u001b[39m\u001b[39m.\u001b[39mparams)\n\u001b[0;32m    102\u001b[0m \u001b[39mfinally\u001b[39;00m:\n\u001b[0;32m    103\u001b[0m     \u001b[39mself\u001b[39m\u001b[39m.\u001b[39mclose()\n",
      "File \u001b[1;32mc:\\ProgramData\\anaconda3\\Lib\\site-packages\\pandas_datareader\\base.py:113\u001b[0m, in \u001b[0;36m_BaseReader._read_one_data\u001b[1;34m(self, url, params)\u001b[0m\n\u001b[0;32m    111\u001b[0m \u001b[39melse\u001b[39;00m:\n\u001b[0;32m    112\u001b[0m     \u001b[39mraise\u001b[39;00m \u001b[39mNotImplementedError\u001b[39;00m(\u001b[39mself\u001b[39m\u001b[39m.\u001b[39m_format)\n\u001b[1;32m--> 113\u001b[0m \u001b[39mreturn\u001b[39;00m \u001b[39mself\u001b[39m\u001b[39m.\u001b[39m_read_lines(out)\n",
      "File \u001b[1;32mc:\\ProgramData\\anaconda3\\Lib\\site-packages\\pandas_datareader\\av\\time_series.py:114\u001b[0m, in \u001b[0;36mAVTimeSeriesReader._read_lines\u001b[1;34m(self, out)\u001b[0m\n\u001b[0;32m    113\u001b[0m \u001b[39mdef\u001b[39;00m \u001b[39m_read_lines\u001b[39m(\u001b[39mself\u001b[39m, out):\n\u001b[1;32m--> 114\u001b[0m     data \u001b[39m=\u001b[39m \u001b[39msuper\u001b[39m(AVTimeSeriesReader, \u001b[39mself\u001b[39m)\u001b[39m.\u001b[39m_read_lines(out)\n\u001b[0;32m    115\u001b[0m     \u001b[39m# reverse since alphavantage returns descending by date\u001b[39;00m\n\u001b[0;32m    116\u001b[0m     data \u001b[39m=\u001b[39m data[::\u001b[39m-\u001b[39m\u001b[39m1\u001b[39m]\n",
      "File \u001b[1;32mc:\\ProgramData\\anaconda3\\Lib\\site-packages\\pandas_datareader\\av\\__init__.py:81\u001b[0m, in \u001b[0;36mAlphaVantage._read_lines\u001b[1;34m(self, out)\u001b[0m\n\u001b[0;32m     75\u001b[0m         \u001b[39mraise\u001b[39;00m \u001b[39mValueError\u001b[39;00m(\n\u001b[0;32m     76\u001b[0m             \u001b[39m\"\u001b[39m\u001b[39mThe requested symbol \u001b[39m\u001b[39m{}\u001b[39;00m\u001b[39m could not be \u001b[39m\u001b[39m\"\u001b[39m\n\u001b[0;32m     77\u001b[0m             \u001b[39m\"\u001b[39m\u001b[39mretrieved. Check valid ticker\u001b[39m\u001b[39m\"\u001b[39m\n\u001b[0;32m     78\u001b[0m             \u001b[39m\"\u001b[39m\u001b[39m.\u001b[39m\u001b[39m\"\u001b[39m\u001b[39m.\u001b[39mformat(\u001b[39mself\u001b[39m\u001b[39m.\u001b[39msymbols)\n\u001b[0;32m     79\u001b[0m         )\n\u001b[0;32m     80\u001b[0m     \u001b[39melse\u001b[39;00m:\n\u001b[1;32m---> 81\u001b[0m         \u001b[39mraise\u001b[39;00m RemoteDataError(\n\u001b[0;32m     82\u001b[0m             \u001b[39m\"\u001b[39m\u001b[39m Their was an issue from the data vendor \u001b[39m\u001b[39m\"\u001b[39m\n\u001b[0;32m     83\u001b[0m             \u001b[39m\"\u001b[39m\u001b[39mside, here is their response: \u001b[39m\u001b[39m{}\u001b[39;00m\u001b[39m\"\u001b[39m\u001b[39m.\u001b[39mformat(out)\n\u001b[0;32m     84\u001b[0m         )\n\u001b[0;32m     85\u001b[0m df \u001b[39m=\u001b[39m df[\u001b[39msorted\u001b[39m(df\u001b[39m.\u001b[39mcolumns)]\n\u001b[0;32m     86\u001b[0m df\u001b[39m.\u001b[39mcolumns \u001b[39m=\u001b[39m [\u001b[39mid\u001b[39m[\u001b[39m3\u001b[39m:] \u001b[39mfor\u001b[39;00m \u001b[39mid\u001b[39m \u001b[39min\u001b[39;00m df\u001b[39m.\u001b[39mcolumns]\n",
      "\u001b[1;31mRemoteDataError\u001b[0m:  Their was an issue from the data vendor side, here is their response: {'Information': 'Thank you for using Alpha Vantage! Our standard API rate limit is 25 requests per day. Please subscribe to any of the premium plans at https://www.alphavantage.co/premium/ to instantly remove all daily rate limits.'}"
     ]
    }
   ],
   "source": [
    "df_apple = DataReader(\"AAPL\", \"av-daily\", start=start_date,end=end_date,api_key='VQHGLOHB0K0378SX') \n",
    "df_apple.index.name = 'day'\n",
    "df_apple = df_apple.reset_index()\n",
    "df_apple\n"
   ]
  },
  {
   "cell_type": "markdown",
   "metadata": {},
   "source": [
    "### Step 5. Add a new column \"stock\" to the dataframe and add the ticker symbol"
   ]
  },
  {
   "cell_type": "code",
   "execution_count": null,
   "metadata": {},
   "outputs": [],
   "source": [
    "def ticker(open,close):\n",
    "    deference = close - open\n",
    "    if(deference > 0):\n",
    "        return \"🔼\"\n",
    "    else:\n",
    "        return \"🔽\""
   ]
  },
  {
   "cell_type": "code",
   "execution_count": null,
   "metadata": {},
   "outputs": [],
   "source": [
    "df_apple[\"stock\"] = df_apple.apply(lambda day: ticker(day.open, day.close), axis=1)\n",
    "df_apple.head(10)\n"
   ]
  },
  {
   "cell_type": "markdown",
   "metadata": {},
   "source": [
    "### Step 6. Repeat the two previous steps for a few other stocks, always creating a new dataframe: Tesla, IBM and Microsoft. (Ticker symbols TSLA, IBM and MSFT.)"
   ]
  },
  {
   "cell_type": "code",
   "execution_count": null,
   "metadata": {},
   "outputs": [],
   "source": [
    "df_TSLA = DataReader(\"TSLA\", \"av-daily\", start=start_date,end=end_date,api_key='NDF3HGNI74EO1EWO')\n",
    "df_TSLA.index.name = 'day'\n",
    "df_TSLA = df_TSLA.reset_index()\n",
    "df_TSLA[\"stock\"] = df_TSLA.apply(lambda day: ticker(day.open, day.close), axis=1)\n",
    "print(df_TSLA.head(10))"
   ]
  },
  {
   "cell_type": "code",
   "execution_count": null,
   "metadata": {},
   "outputs": [],
   "source": [
    "df_IBM = DataReader(\"IBM\", \"av-daily\", start=start_date,end=end_date,api_key='NDF3HGNI74EO1EWO')\n",
    "df_IBM[\"stock\"] = df_IBM.apply(lambda day: ticker(day.open, day.close), axis=1)\n",
    "print(df_IBM.head(10))"
   ]
  },
  {
   "cell_type": "code",
   "execution_count": null,
   "metadata": {},
   "outputs": [],
   "source": [
    "df_MSFT = DataReader(\"MSFT\", \"av-daily\", start=start_date,end=end_date,api_key='NDF3HGNI74EO1EWO')\n",
    "df_MSFT[\"stock\"] = df_MSFT.apply(lambda day: ticker(day.open, day.close), axis=1)\n",
    "print(df_MSFT.head(10))"
   ]
  },
  {
   "cell_type": "markdown",
   "metadata": {},
   "source": [
    "### Step 7. Combine the four separate dataFrames into one combined dataFrame df that holds the information for all four stocks"
   ]
  },
  {
   "cell_type": "code",
   "execution_count": null,
   "metadata": {},
   "outputs": [],
   "source": [
    "combined = pd.concat({\"apple\": df_apple,\"TSLA\": df_TSLA,\"IBM\": df_IBM,\"Microsoft\": df_MSFT}, axis=0)\n",
    "combined"
   ]
  },
  {
   "cell_type": "markdown",
   "metadata": {},
   "source": [
    "### Step 8. Shift the stock column into the index (making it a multi-level index consisting of the ticker symbol and the date)."
   ]
  },
  {
   "cell_type": "code",
   "execution_count": null,
   "metadata": {},
   "outputs": [],
   "source": [
    "# set the index to the stock and date columns\n",
    "combined.set_index(['stock'], inplace=True)\n",
    "\n",
    "combined"
   ]
  },
  {
   "cell_type": "markdown",
   "metadata": {},
   "source": [
    "### Step 7. Create a dataFrame called vol, with the volume values."
   ]
  },
  {
   "cell_type": "code",
   "execution_count": null,
   "metadata": {},
   "outputs": [],
   "source": []
  },
  {
   "cell_type": "markdown",
   "metadata": {},
   "source": [
    "### Step 8. Aggregate the data of volume to weekly.\n",
    "Hint: Be careful to not sum data from the same week of 2015 and other years."
   ]
  },
  {
   "cell_type": "code",
   "execution_count": null,
   "metadata": {},
   "outputs": [],
   "source": []
  },
  {
   "cell_type": "markdown",
   "metadata": {},
   "source": [
    "### Step 9. Find all the volume traded in the year of 2015"
   ]
  },
  {
   "cell_type": "code",
   "execution_count": null,
   "metadata": {},
   "outputs": [],
   "source": []
  }
 ],
 "metadata": {
  "kernelspec": {
   "display_name": "Python 3",
   "language": "python",
   "name": "python3"
  },
  "language_info": {
   "codemirror_mode": {
    "name": "ipython",
    "version": 3
   },
   "file_extension": ".py",
   "mimetype": "text/x-python",
   "name": "python",
   "nbconvert_exporter": "python",
   "pygments_lexer": "ipython3",
   "version": "3.11.3"
  }
 },
 "nbformat": 4,
 "nbformat_minor": 1
}
