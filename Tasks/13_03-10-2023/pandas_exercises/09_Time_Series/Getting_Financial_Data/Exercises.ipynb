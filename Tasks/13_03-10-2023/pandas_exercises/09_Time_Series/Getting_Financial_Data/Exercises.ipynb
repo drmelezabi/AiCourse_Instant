{
 "cells": [
  {
   "cell_type": "markdown",
   "metadata": {},
   "source": [
    "# Getting Financial Data - Pandas Datareader"
   ]
  },
  {
   "cell_type": "markdown",
   "metadata": {},
   "source": [
    "### Introduction:\n",
    "\n",
    "This time you will get data from a website.\n",
    "\n",
    "\n",
    "### Step 1. Import the necessary libraries"
   ]
  },
  {
   "cell_type": "code",
   "execution_count": 36,
   "metadata": {},
   "outputs": [],
   "source": [
    "from datetime import datetime\n",
    "from pandas_datareader.data import DataReader\n",
    "import pandas as pd\n",
    "# VQHGLOHB0K0378SX - NDF3HGNI74EO1EWO"
   ]
  },
  {
   "cell_type": "markdown",
   "metadata": {},
   "source": [
    "### Step 2. Create your time range (start and end variables). The start date should be 01/01/2015 and the end should today (whatever your today is)."
   ]
  },
  {
   "cell_type": "code",
   "execution_count": 37,
   "metadata": {},
   "outputs": [],
   "source": [
    "d_format = \"%d/%m/%Y\"\n",
    "start_date_string = \"01/01/2015\"\n",
    "start_date = datetime.strptime(start_date_string,d_format)\n",
    "end_date_string = datetime.now().strftime(d_format)\n",
    "end_date = datetime.strptime(end_date_string,d_format)"
   ]
  },
  {
   "cell_type": "markdown",
   "metadata": {},
   "source": [
    "### Step 3. Get an API key for one of the APIs that are supported by Pandas Datareader, preferably for AlphaVantage.\n",
    "\n",
    "If you do not have an API key for any of the supported APIs, it is easiest to get one for [AlphaVantage](https://www.alphavantage.co/support/#api-key). (Note that the API key is shown directly after the signup. You do *not* receive it via e-mail.)\n",
    "\n",
    "(For a full list of the APIs that are supported by Pandas Datareader, [see here](https://pydata.github.io/pandas-datareader/readers/index.html). As the APIs are provided by third parties, this list may change.)"
   ]
  },
  {
   "cell_type": "markdown",
   "metadata": {},
   "source": [
    "### Step 4. Use Pandas Datarader to read the daily time series for the Apple stock (ticker symbol AAPL) between 01/01/2015 and today, assign it to df_apple and print it."
   ]
  },
  {
   "cell_type": "code",
   "execution_count": 38,
   "metadata": {},
   "outputs": [],
   "source": [
    "# df_apple = DataReader(\"AAPL\", \"av-daily\", start=start_date,end=end_date,api_key='VQHGLOHB0K0378SX') \n",
    "# df_TSLA = DataReader(\"TSLA\", \"av-daily\", start=start_date,end=end_date,api_key='NDF3HGNI74EO1EWO')\n",
    "# df_IBM = DataReader(\"IBM\", \"av-daily\", start=start_date,end=end_date,api_key='NDF3HGNI74EO1EWO')\n",
    "# df_MSFT = DataReader(\"MSFT\", \"av-daily\", start=start_date,end=end_date,api_key='NDF3HGNI74EO1EWO')\n",
    "# pd.DataFrame(df_apple).to_csv(\"df_apple.csv\")\n",
    "# pd.DataFrame(df_TSLA).to_csv(\"df_TSLA.csv\")\n",
    "# pd.DataFrame(df_IBM).to_csv(\"df_IBM.csv\")\n",
    "# pd.DataFrame(df_MSFT).to_csv(\"df_MSFT.csv\")\n"
   ]
  },
  {
   "cell_type": "code",
   "execution_count": 39,
   "metadata": {},
   "outputs": [],
   "source": [
    "df_apple = pd.read_csv('df_apple.csv', index_col=0, parse_dates=True)\n",
    "df_TSLA = pd.read_csv(\"df_TSLA.csv\", index_col=0, parse_dates=True)\n",
    "df_IBM = pd.read_csv(\"df_IBM.csv\", index_col=0, parse_dates=True)\n",
    "df_MSFT = pd.read_csv(\"df_MSFT.csv\", index_col=0, parse_dates=True)\n",
    "df_apple.index.name = 'day'\n",
    "df_TSLA.index.name = 'day'\n",
    "df_IBM.index.name = 'day'\n",
    "df_MSFT.index.name = 'day'\n"
   ]
  },
  {
   "cell_type": "code",
   "execution_count": 40,
   "metadata": {},
   "outputs": [
    {
     "data": {
      "text/html": [
       "<div>\n",
       "<style scoped>\n",
       "    .dataframe tbody tr th:only-of-type {\n",
       "        vertical-align: middle;\n",
       "    }\n",
       "\n",
       "    .dataframe tbody tr th {\n",
       "        vertical-align: top;\n",
       "    }\n",
       "\n",
       "    .dataframe thead th {\n",
       "        text-align: right;\n",
       "    }\n",
       "</style>\n",
       "<table border=\"1\" class=\"dataframe\">\n",
       "  <thead>\n",
       "    <tr style=\"text-align: right;\">\n",
       "      <th></th>\n",
       "      <th>open</th>\n",
       "      <th>high</th>\n",
       "      <th>low</th>\n",
       "      <th>close</th>\n",
       "      <th>volume</th>\n",
       "    </tr>\n",
       "    <tr>\n",
       "      <th>day</th>\n",
       "      <th></th>\n",
       "      <th></th>\n",
       "      <th></th>\n",
       "      <th></th>\n",
       "      <th></th>\n",
       "    </tr>\n",
       "  </thead>\n",
       "  <tbody>\n",
       "    <tr>\n",
       "      <th>2015-01-02</th>\n",
       "      <td>111.39</td>\n",
       "      <td>111.44</td>\n",
       "      <td>107.350</td>\n",
       "      <td>109.33</td>\n",
       "      <td>53204626</td>\n",
       "    </tr>\n",
       "    <tr>\n",
       "      <th>2015-01-05</th>\n",
       "      <td>108.29</td>\n",
       "      <td>108.65</td>\n",
       "      <td>105.410</td>\n",
       "      <td>106.25</td>\n",
       "      <td>64285491</td>\n",
       "    </tr>\n",
       "    <tr>\n",
       "      <th>2015-01-06</th>\n",
       "      <td>106.54</td>\n",
       "      <td>107.43</td>\n",
       "      <td>104.630</td>\n",
       "      <td>106.26</td>\n",
       "      <td>65797116</td>\n",
       "    </tr>\n",
       "    <tr>\n",
       "      <th>2015-01-07</th>\n",
       "      <td>107.20</td>\n",
       "      <td>108.20</td>\n",
       "      <td>106.695</td>\n",
       "      <td>107.75</td>\n",
       "      <td>40105934</td>\n",
       "    </tr>\n",
       "    <tr>\n",
       "      <th>2015-01-08</th>\n",
       "      <td>109.23</td>\n",
       "      <td>112.15</td>\n",
       "      <td>108.700</td>\n",
       "      <td>111.89</td>\n",
       "      <td>59364547</td>\n",
       "    </tr>\n",
       "    <tr>\n",
       "      <th>...</th>\n",
       "      <td>...</td>\n",
       "      <td>...</td>\n",
       "      <td>...</td>\n",
       "      <td>...</td>\n",
       "      <td>...</td>\n",
       "    </tr>\n",
       "    <tr>\n",
       "      <th>2023-11-01</th>\n",
       "      <td>171.00</td>\n",
       "      <td>174.23</td>\n",
       "      <td>170.120</td>\n",
       "      <td>173.97</td>\n",
       "      <td>56934906</td>\n",
       "    </tr>\n",
       "    <tr>\n",
       "      <th>2023-11-02</th>\n",
       "      <td>175.52</td>\n",
       "      <td>177.78</td>\n",
       "      <td>175.460</td>\n",
       "      <td>177.57</td>\n",
       "      <td>77334752</td>\n",
       "    </tr>\n",
       "    <tr>\n",
       "      <th>2023-11-03</th>\n",
       "      <td>174.24</td>\n",
       "      <td>176.82</td>\n",
       "      <td>173.350</td>\n",
       "      <td>176.65</td>\n",
       "      <td>79829246</td>\n",
       "    </tr>\n",
       "    <tr>\n",
       "      <th>2023-11-06</th>\n",
       "      <td>176.38</td>\n",
       "      <td>179.43</td>\n",
       "      <td>176.210</td>\n",
       "      <td>179.23</td>\n",
       "      <td>63841310</td>\n",
       "    </tr>\n",
       "    <tr>\n",
       "      <th>2023-11-07</th>\n",
       "      <td>179.18</td>\n",
       "      <td>182.44</td>\n",
       "      <td>178.970</td>\n",
       "      <td>181.82</td>\n",
       "      <td>70529966</td>\n",
       "    </tr>\n",
       "  </tbody>\n",
       "</table>\n",
       "<p>2228 rows × 5 columns</p>\n",
       "</div>"
      ],
      "text/plain": [
       "              open    high      low   close    volume\n",
       "day                                                  \n",
       "2015-01-02  111.39  111.44  107.350  109.33  53204626\n",
       "2015-01-05  108.29  108.65  105.410  106.25  64285491\n",
       "2015-01-06  106.54  107.43  104.630  106.26  65797116\n",
       "2015-01-07  107.20  108.20  106.695  107.75  40105934\n",
       "2015-01-08  109.23  112.15  108.700  111.89  59364547\n",
       "...            ...     ...      ...     ...       ...\n",
       "2023-11-01  171.00  174.23  170.120  173.97  56934906\n",
       "2023-11-02  175.52  177.78  175.460  177.57  77334752\n",
       "2023-11-03  174.24  176.82  173.350  176.65  79829246\n",
       "2023-11-06  176.38  179.43  176.210  179.23  63841310\n",
       "2023-11-07  179.18  182.44  178.970  181.82  70529966\n",
       "\n",
       "[2228 rows x 5 columns]"
      ]
     },
     "execution_count": 40,
     "metadata": {},
     "output_type": "execute_result"
    }
   ],
   "source": [
    "df_apple\n"
   ]
  },
  {
   "cell_type": "markdown",
   "metadata": {},
   "source": [
    "### Step 5. Add a new column \"stock\" to the dataframe and add the ticker symbol"
   ]
  },
  {
   "cell_type": "code",
   "execution_count": 41,
   "metadata": {},
   "outputs": [],
   "source": [
    "def ticker(open,close):\n",
    "    deference = close - open\n",
    "    if(deference > 0):\n",
    "        return \"🔼\"\n",
    "    else:\n",
    "        return \"🔽\""
   ]
  },
  {
   "cell_type": "code",
   "execution_count": 42,
   "metadata": {},
   "outputs": [
    {
     "data": {
      "text/html": [
       "<div>\n",
       "<style scoped>\n",
       "    .dataframe tbody tr th:only-of-type {\n",
       "        vertical-align: middle;\n",
       "    }\n",
       "\n",
       "    .dataframe tbody tr th {\n",
       "        vertical-align: top;\n",
       "    }\n",
       "\n",
       "    .dataframe thead th {\n",
       "        text-align: right;\n",
       "    }\n",
       "</style>\n",
       "<table border=\"1\" class=\"dataframe\">\n",
       "  <thead>\n",
       "    <tr style=\"text-align: right;\">\n",
       "      <th></th>\n",
       "      <th>open</th>\n",
       "      <th>high</th>\n",
       "      <th>low</th>\n",
       "      <th>close</th>\n",
       "      <th>volume</th>\n",
       "      <th>stock</th>\n",
       "    </tr>\n",
       "    <tr>\n",
       "      <th>day</th>\n",
       "      <th></th>\n",
       "      <th></th>\n",
       "      <th></th>\n",
       "      <th></th>\n",
       "      <th></th>\n",
       "      <th></th>\n",
       "    </tr>\n",
       "  </thead>\n",
       "  <tbody>\n",
       "    <tr>\n",
       "      <th>2015-01-02</th>\n",
       "      <td>111.39</td>\n",
       "      <td>111.44</td>\n",
       "      <td>107.350</td>\n",
       "      <td>109.33</td>\n",
       "      <td>53204626</td>\n",
       "      <td>🔽</td>\n",
       "    </tr>\n",
       "    <tr>\n",
       "      <th>2015-01-05</th>\n",
       "      <td>108.29</td>\n",
       "      <td>108.65</td>\n",
       "      <td>105.410</td>\n",
       "      <td>106.25</td>\n",
       "      <td>64285491</td>\n",
       "      <td>🔽</td>\n",
       "    </tr>\n",
       "    <tr>\n",
       "      <th>2015-01-06</th>\n",
       "      <td>106.54</td>\n",
       "      <td>107.43</td>\n",
       "      <td>104.630</td>\n",
       "      <td>106.26</td>\n",
       "      <td>65797116</td>\n",
       "      <td>🔽</td>\n",
       "    </tr>\n",
       "    <tr>\n",
       "      <th>2015-01-07</th>\n",
       "      <td>107.20</td>\n",
       "      <td>108.20</td>\n",
       "      <td>106.695</td>\n",
       "      <td>107.75</td>\n",
       "      <td>40105934</td>\n",
       "      <td>🔼</td>\n",
       "    </tr>\n",
       "    <tr>\n",
       "      <th>2015-01-08</th>\n",
       "      <td>109.23</td>\n",
       "      <td>112.15</td>\n",
       "      <td>108.700</td>\n",
       "      <td>111.89</td>\n",
       "      <td>59364547</td>\n",
       "      <td>🔼</td>\n",
       "    </tr>\n",
       "  </tbody>\n",
       "</table>\n",
       "</div>"
      ],
      "text/plain": [
       "              open    high      low   close    volume stock\n",
       "day                                                        \n",
       "2015-01-02  111.39  111.44  107.350  109.33  53204626     🔽\n",
       "2015-01-05  108.29  108.65  105.410  106.25  64285491     🔽\n",
       "2015-01-06  106.54  107.43  104.630  106.26  65797116     🔽\n",
       "2015-01-07  107.20  108.20  106.695  107.75  40105934     🔼\n",
       "2015-01-08  109.23  112.15  108.700  111.89  59364547     🔼"
      ]
     },
     "execution_count": 42,
     "metadata": {},
     "output_type": "execute_result"
    }
   ],
   "source": [
    "df_apple[\"stock\"] = df_apple.apply(lambda day: ticker(day.open, day.close), axis=1)\n",
    "df_apple.head(5)\n"
   ]
  },
  {
   "cell_type": "markdown",
   "metadata": {},
   "source": [
    "### Step 6. Repeat the two previous steps for a few other stocks, always creating a new dataframe: Tesla, IBM and Microsoft. (Ticker symbols TSLA, IBM and MSFT.)"
   ]
  },
  {
   "cell_type": "code",
   "execution_count": 43,
   "metadata": {},
   "outputs": [
    {
     "name": "stdout",
     "output_type": "stream",
     "text": [
      "              open      high       low    close   volume stock\n",
      "day                                                           \n",
      "2015-01-02  222.87  223.2500  213.2600  219.310  4764443     🔽\n",
      "2015-01-05  214.55  216.5000  207.1626  210.090  5368477     🔽\n",
      "2015-01-06  210.06  214.2000  204.2100  211.280  6261936     🔼\n",
      "2015-01-07  213.35  214.7800  209.7800  210.950  2968390     🔽\n",
      "2015-01-08  212.81  213.7999  210.0100  210.615  3442509     🔽\n"
     ]
    }
   ],
   "source": [
    "df_TSLA[\"stock\"] = df_TSLA.apply(lambda day: ticker(day.open, day.close), axis=1)\n",
    "print(df_TSLA.head(5))"
   ]
  },
  {
   "cell_type": "code",
   "execution_count": 44,
   "metadata": {},
   "outputs": [
    {
     "name": "stdout",
     "output_type": "stream",
     "text": [
      "              open     high     low   close   volume stock\n",
      "day                                                       \n",
      "2015-01-02  161.31  163.310  161.00  162.06  5525341     🔼\n",
      "2015-01-05  161.27  161.270  159.19  159.51  4880389     🔽\n",
      "2015-01-06  159.67  159.960  155.17  156.07  6145670     🔽\n",
      "2015-01-07  157.20  157.200  154.03  155.05  4701015     🔽\n",
      "2015-01-08  156.24  159.044  155.55  158.42  4240585     🔼\n"
     ]
    }
   ],
   "source": [
    "df_IBM[\"stock\"] = df_IBM.apply(lambda day: ticker(day.open, day.close), axis=1)\n",
    "print(df_IBM.head(5))"
   ]
  },
  {
   "cell_type": "code",
   "execution_count": 45,
   "metadata": {},
   "outputs": [
    {
     "name": "stdout",
     "output_type": "stream",
     "text": [
      "             open     high    low   close    volume stock\n",
      "day                                                      \n",
      "2015-01-02  46.66  47.4200  46.54  46.760  27913852     🔼\n",
      "2015-01-05  46.37  46.7300  46.25  46.325  39673865     🔽\n",
      "2015-01-06  46.38  46.7490  45.54  45.650  36447854     🔽\n",
      "2015-01-07  45.98  46.4600  45.49  46.230  29114061     🔼\n",
      "2015-01-08  46.75  47.7499  46.72  47.590  29645202     🔼\n"
     ]
    }
   ],
   "source": [
    "df_MSFT[\"stock\"] = df_MSFT.apply(lambda day: ticker(day.open, day.close), axis=1)\n",
    "print(df_MSFT.head(5))"
   ]
  },
  {
   "cell_type": "markdown",
   "metadata": {},
   "source": [
    "### Step 7. Combine the four separate dataFrames into one combined dataFrame df that holds the information for all four stocks"
   ]
  },
  {
   "cell_type": "code",
   "execution_count": 46,
   "metadata": {},
   "outputs": [],
   "source": [
    "combined = pd.concat({\"apple\": df_apple,\"TSLA\": df_TSLA,\"IBM\": df_IBM,\"Microsoft\": df_MSFT}, axis=0)\n",
    "combined.to_csv('combined.csv')"
   ]
  },
  {
   "cell_type": "markdown",
   "metadata": {},
   "source": [
    "### Step 8. Shift the stock column into the index (making it a multi-level index consisting of the ticker symbol and the date)."
   ]
  },
  {
   "cell_type": "code",
   "execution_count": 47,
   "metadata": {},
   "outputs": [
    {
     "data": {
      "text/html": [
       "<div>\n",
       "<style scoped>\n",
       "    .dataframe tbody tr th:only-of-type {\n",
       "        vertical-align: middle;\n",
       "    }\n",
       "\n",
       "    .dataframe tbody tr th {\n",
       "        vertical-align: top;\n",
       "    }\n",
       "\n",
       "    .dataframe thead th {\n",
       "        text-align: right;\n",
       "    }\n",
       "</style>\n",
       "<table border=\"1\" class=\"dataframe\">\n",
       "  <thead>\n",
       "    <tr style=\"text-align: right;\">\n",
       "      <th></th>\n",
       "      <th></th>\n",
       "      <th></th>\n",
       "      <th>open</th>\n",
       "      <th>high</th>\n",
       "      <th>low</th>\n",
       "      <th>close</th>\n",
       "      <th>volume</th>\n",
       "    </tr>\n",
       "    <tr>\n",
       "      <th></th>\n",
       "      <th>day</th>\n",
       "      <th>stock</th>\n",
       "      <th></th>\n",
       "      <th></th>\n",
       "      <th></th>\n",
       "      <th></th>\n",
       "      <th></th>\n",
       "    </tr>\n",
       "  </thead>\n",
       "  <tbody>\n",
       "    <tr>\n",
       "      <th rowspan=\"5\" valign=\"top\">apple</th>\n",
       "      <th>2015-01-02</th>\n",
       "      <th>🔽</th>\n",
       "      <td>111.39</td>\n",
       "      <td>111.44</td>\n",
       "      <td>107.350</td>\n",
       "      <td>109.33</td>\n",
       "      <td>53204626</td>\n",
       "    </tr>\n",
       "    <tr>\n",
       "      <th>2015-01-05</th>\n",
       "      <th>🔽</th>\n",
       "      <td>108.29</td>\n",
       "      <td>108.65</td>\n",
       "      <td>105.410</td>\n",
       "      <td>106.25</td>\n",
       "      <td>64285491</td>\n",
       "    </tr>\n",
       "    <tr>\n",
       "      <th>2015-01-06</th>\n",
       "      <th>🔽</th>\n",
       "      <td>106.54</td>\n",
       "      <td>107.43</td>\n",
       "      <td>104.630</td>\n",
       "      <td>106.26</td>\n",
       "      <td>65797116</td>\n",
       "    </tr>\n",
       "    <tr>\n",
       "      <th>2015-01-07</th>\n",
       "      <th>🔼</th>\n",
       "      <td>107.20</td>\n",
       "      <td>108.20</td>\n",
       "      <td>106.695</td>\n",
       "      <td>107.75</td>\n",
       "      <td>40105934</td>\n",
       "    </tr>\n",
       "    <tr>\n",
       "      <th>2015-01-08</th>\n",
       "      <th>🔼</th>\n",
       "      <td>109.23</td>\n",
       "      <td>112.15</td>\n",
       "      <td>108.700</td>\n",
       "      <td>111.89</td>\n",
       "      <td>59364547</td>\n",
       "    </tr>\n",
       "    <tr>\n",
       "      <th>...</th>\n",
       "      <th>...</th>\n",
       "      <th>...</th>\n",
       "      <td>...</td>\n",
       "      <td>...</td>\n",
       "      <td>...</td>\n",
       "      <td>...</td>\n",
       "      <td>...</td>\n",
       "    </tr>\n",
       "    <tr>\n",
       "      <th rowspan=\"5\" valign=\"top\">Microsoft</th>\n",
       "      <th>2023-11-01</th>\n",
       "      <th>🔼</th>\n",
       "      <td>339.79</td>\n",
       "      <td>347.42</td>\n",
       "      <td>339.650</td>\n",
       "      <td>346.07</td>\n",
       "      <td>28158819</td>\n",
       "    </tr>\n",
       "    <tr>\n",
       "      <th>2023-11-02</th>\n",
       "      <th>🔼</th>\n",
       "      <td>347.24</td>\n",
       "      <td>348.83</td>\n",
       "      <td>344.770</td>\n",
       "      <td>348.32</td>\n",
       "      <td>24348072</td>\n",
       "    </tr>\n",
       "    <tr>\n",
       "      <th>2023-11-03</th>\n",
       "      <th>🔼</th>\n",
       "      <td>349.63</td>\n",
       "      <td>354.39</td>\n",
       "      <td>347.330</td>\n",
       "      <td>352.80</td>\n",
       "      <td>23637673</td>\n",
       "    </tr>\n",
       "    <tr>\n",
       "      <th>2023-11-06</th>\n",
       "      <th>🔼</th>\n",
       "      <td>353.45</td>\n",
       "      <td>357.54</td>\n",
       "      <td>353.350</td>\n",
       "      <td>356.53</td>\n",
       "      <td>23828301</td>\n",
       "    </tr>\n",
       "    <tr>\n",
       "      <th>2023-11-07</th>\n",
       "      <th>🔼</th>\n",
       "      <td>359.40</td>\n",
       "      <td>362.46</td>\n",
       "      <td>357.630</td>\n",
       "      <td>360.53</td>\n",
       "      <td>25833931</td>\n",
       "    </tr>\n",
       "  </tbody>\n",
       "</table>\n",
       "<p>8912 rows × 5 columns</p>\n",
       "</div>"
      ],
      "text/plain": [
       "                              open    high      low   close    volume\n",
       "          day        stock                                           \n",
       "apple     2015-01-02 🔽      111.39  111.44  107.350  109.33  53204626\n",
       "          2015-01-05 🔽      108.29  108.65  105.410  106.25  64285491\n",
       "          2015-01-06 🔽      106.54  107.43  104.630  106.26  65797116\n",
       "          2015-01-07 🔼      107.20  108.20  106.695  107.75  40105934\n",
       "          2015-01-08 🔼      109.23  112.15  108.700  111.89  59364547\n",
       "...                            ...     ...      ...     ...       ...\n",
       "Microsoft 2023-11-01 🔼      339.79  347.42  339.650  346.07  28158819\n",
       "          2023-11-02 🔼      347.24  348.83  344.770  348.32  24348072\n",
       "          2023-11-03 🔼      349.63  354.39  347.330  352.80  23637673\n",
       "          2023-11-06 🔼      353.45  357.54  353.350  356.53  23828301\n",
       "          2023-11-07 🔼      359.40  362.46  357.630  360.53  25833931\n",
       "\n",
       "[8912 rows x 5 columns]"
      ]
     },
     "execution_count": 47,
     "metadata": {},
     "output_type": "execute_result"
    }
   ],
   "source": [
    "# set the index to the stock and date columns\n",
    "combined.set_index(\"stock\",append=True)"
   ]
  },
  {
   "cell_type": "markdown",
   "metadata": {},
   "source": [
    "### Step 7. Create a dataFrame called vol, with the volume values."
   ]
  },
  {
   "cell_type": "code",
   "execution_count": 50,
   "metadata": {},
   "outputs": [
    {
     "data": {
      "text/plain": [
       "           day       \n",
       "apple      2015-01-02    53204626\n",
       "           2015-01-05    64285491\n",
       "           2015-01-06    65797116\n",
       "           2015-01-07    40105934\n",
       "           2015-01-08    59364547\n",
       "                           ...   \n",
       "Microsoft  2023-11-01    28158819\n",
       "           2023-11-02    24348072\n",
       "           2023-11-03    23637673\n",
       "           2023-11-06    23828301\n",
       "           2023-11-07    25833931\n",
       "Name: volume, Length: 8912, dtype: int64"
      ]
     },
     "execution_count": 50,
     "metadata": {},
     "output_type": "execute_result"
    }
   ],
   "source": [
    "vol = combined[\"volume\"]\n",
    "vol\n"
   ]
  },
  {
   "cell_type": "markdown",
   "metadata": {},
   "source": [
    "### Step 8. Aggregate the data of volume to weekly.\n",
    "Hint: Be careful to not sum data from the same week of 2015 and other years."
   ]
  },
  {
   "cell_type": "code",
   "execution_count": 56,
   "metadata": {},
   "outputs": [
    {
     "data": {
      "text/plain": [
       "apple        263562222606\n",
       "TSLA         263562222606\n",
       "IBM          263562222606\n",
       "Microsoft    263562222606\n",
       "Name: volume, dtype: int64"
      ]
     },
     "execution_count": 56,
     "metadata": {},
     "output_type": "execute_result"
    }
   ],
   "source": [
    "vol.agg({\"apple\": \"sum\",\"TSLA\": \"sum\",\"IBM\": \"sum\",\"Microsoft\": \"sum\"})"
   ]
  },
  {
   "cell_type": "markdown",
   "metadata": {},
   "source": [
    "### Step 9. Find all the volume traded in the year of 2015"
   ]
  },
  {
   "cell_type": "code",
   "execution_count": null,
   "metadata": {},
   "outputs": [],
   "source": []
  }
 ],
 "metadata": {
  "kernelspec": {
   "display_name": "Python 3",
   "language": "python",
   "name": "python3"
  },
  "language_info": {
   "codemirror_mode": {
    "name": "ipython",
    "version": 3
   },
   "file_extension": ".py",
   "mimetype": "text/x-python",
   "name": "python",
   "nbconvert_exporter": "python",
   "pygments_lexer": "ipython3",
   "version": "3.11.3"
  }
 },
 "nbformat": 4,
 "nbformat_minor": 1
}
