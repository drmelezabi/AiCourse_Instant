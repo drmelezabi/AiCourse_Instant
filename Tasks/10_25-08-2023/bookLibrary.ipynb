{
 "cells": [
  {
   "cell_type": "markdown",
   "metadata": {},
   "source": [
    "### Book Library Scraping demo website"
   ]
  },
  {
   "cell_type": "code",
   "execution_count": 13,
   "metadata": {},
   "outputs": [],
   "source": [
    "import requests\n",
    "from bs4 import BeautifulSoup"
   ]
  },
  {
   "cell_type": "code",
   "execution_count": 14,
   "metadata": {},
   "outputs": [],
   "source": [
    "class BookLibrary:\n",
    "    def __init__(self):\n",
    "        self.books = []\n",
    "\n",
    "    def addBook(self, title, price, rate):\n",
    "        self.books.append({'title': title, 'price': price, 'rate': rate})\n",
    "\n",
    "    def getBooksOrdered(self, order_by):\n",
    "        if order_by == 'rate':\n",
    "            return sorted(self.books, key=lambda x: x['rate'], reverse=True)\n",
    "        elif order_by == 'alphabet':\n",
    "            return sorted(self.books, key=lambda x: x['title'])\n",
    "        elif order_by == 'price_desc':\n",
    "            return sorted(self.books, key=lambda x: x['price'], reverse=True)\n",
    "        elif order_by == 'price_asc':\n",
    "            return sorted(self.books, key=lambda x: x['price'])\n",
    "        else:\n",
    "            print(\"Invalid order_by parameter.\")\n",
    "            return None"
   ]
  },
  {
   "cell_type": "code",
   "execution_count": 15,
   "metadata": {},
   "outputs": [],
   "source": [
    "library = BookLibrary()"
   ]
  },
  {
   "cell_type": "code",
   "execution_count": 16,
   "metadata": {},
   "outputs": [],
   "source": [
    "pageNumber = 1\n",
    "rateList = ['None','One','Two','Three','Four','Five']\n",
    "\n",
    "\n",
    "while True:\n",
    "    url = f'https://books.toscrape.com/catalogue/page-{pageNumber}.html'\n",
    "    \n",
    "    response = requests.get(url)\n",
    "    if response.status_code != 200:\n",
    "        break\n",
    "    \n",
    "    html_content = response.content\n",
    "    \n",
    "    soup = BeautifulSoup(html_content, 'lxml')\n",
    "    \n",
    "    books = soup.find_all('article', class_='product_pod')\n",
    "   \n",
    "    for book in books:\n",
    "        title = book.h3.a['title']\n",
    "        price = book.find('p', class_='price_color').text[1:]\n",
    "        rating_tag = book.find('p', class_='star-rating')\n",
    "        rateWord = rating_tag['class'][-1] if rating_tag else 'None'\n",
    "        rate = rateList.index(rateWord)\n",
    "        library.addBook( title, float(price), rate)\n",
    "    \n",
    "    pageNumber += 1\n"
   ]
  },
  {
   "cell_type": "code",
   "execution_count": 17,
   "metadata": {},
   "outputs": [],
   "source": [
    "import csv"
   ]
  },
  {
   "cell_type": "code",
   "execution_count": 18,
   "metadata": {},
   "outputs": [],
   "source": [
    "def create_file(path,listOfContacts):\n",
    "        # Check input type\n",
    "    if not isinstance(listOfContacts, list):\n",
    "        raise TypeError('listOfContacts can only be called on a list.')\n",
    "    \n",
    "    with open(path, 'w', newline='') as file:\n",
    "        fieldnames = ['title', 'price', 'rate']\n",
    "        writer = csv.DictWriter(file, fieldnames=fieldnames)\n",
    "\n",
    "        writer.writeheader()\n",
    "        for row in listOfContacts:\n",
    "            writer.writerow(row)"
   ]
  },
  {
   "cell_type": "code",
   "execution_count": 19,
   "metadata": {},
   "outputs": [],
   "source": [
    "booksByRate = library.getBooksOrdered('rate')\n",
    "create_file(f'books_By_Rate_{len(booksByRate)}_Books.csv',booksByRate)\n",
    "\n",
    "booksByTitleAlphabet = library.getBooksOrdered('alphabet')\n",
    "create_file(f'books_By_Title_Alphabet_{len(booksByTitleAlphabet)}_Books.csv',booksByTitleAlphabet)\n",
    "\n",
    "booksByPriceDesc = library.getBooksOrdered('price_desc')\n",
    "create_file(f'books_By_price_desc_{len(booksByPriceDesc)}_Books.csv',booksByPriceDesc)\n",
    "\n",
    "booksByPriceAsc = library.getBooksOrdered('price_asc')\n",
    "create_file(f'books_By_price_asc_{len(booksByPriceAsc)}_Books.csv',booksByPriceAsc)\n"
   ]
  }
 ],
 "metadata": {
  "kernelspec": {
   "display_name": "Python 3",
   "language": "python",
   "name": "python3"
  },
  "language_info": {
   "codemirror_mode": {
    "name": "ipython",
    "version": 3
   },
   "file_extension": ".py",
   "mimetype": "text/x-python",
   "name": "python",
   "nbconvert_exporter": "python",
   "pygments_lexer": "ipython3",
   "version": "3.11.3"
  },
  "orig_nbformat": 4
 },
 "nbformat": 4,
 "nbformat_minor": 2
}
