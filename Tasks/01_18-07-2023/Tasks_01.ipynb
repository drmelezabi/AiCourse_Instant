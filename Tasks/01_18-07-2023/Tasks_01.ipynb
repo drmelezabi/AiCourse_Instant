{
 "cells": [
  {
   "cell_type": "markdown",
   "id": "6d04ece3",
   "metadata": {},
   "source": [
    "## 1st Task - 18 jul 23"
   ]
  },
  {
   "cell_type": "markdown",
   "id": "4353be09",
   "metadata": {},
   "source": [
    "### *Bio Links*"
   ]
  },
  {
   "cell_type": "markdown",
   "id": "b469f08a",
   "metadata": {},
   "source": [
    "Name: Ph.D Mohamed El Ezabi"
   ]
  },
  {
   "cell_type": "markdown",
   "id": "c9708388",
   "metadata": {},
   "source": [
    "[LinkedIn Profile](https://www.linkedin.com/in/melezabi/)"
   ]
  },
  {
   "cell_type": "markdown",
   "id": "58f8add4",
   "metadata": {},
   "source": [
    "[Github Profile](https://github.com/drmelezabi)"
   ]
  }
 ],
 "metadata": {
  "kernelspec": {
   "display_name": "Python 3 (ipykernel)",
   "language": "python",
   "name": "python3"
  },
  "language_info": {
   "codemirror_mode": {
    "name": "ipython",
    "version": 3
   },
   "file_extension": ".py",
   "mimetype": "text/x-python",
   "name": "python",
   "nbconvert_exporter": "python",
   "pygments_lexer": "ipython3",
   "version": "3.11.3"
  }
 },
 "nbformat": 4,
 "nbformat_minor": 5
}
