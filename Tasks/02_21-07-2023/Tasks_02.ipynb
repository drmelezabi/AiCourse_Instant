{
 "cells": [
  {
   "cell_type": "markdown",
   "id": "abcd666b",
   "metadata": {},
   "source": [
    "#### Unit testing function *Need to run to be able to use*"
   ]
  },
  {
   "cell_type": "code",
   "execution_count": 100,
   "id": "9943a7c2",
   "metadata": {},
   "outputs": [],
   "source": [
    "## The Test Function Gets 3 Parametars \n",
    "## - the Function to test\n",
    "## - A list of function parameters\n",
    "## - the otput which expect\n",
    "\n",
    "def test(func, input_data, expect):\n",
    "    try:\n",
    "        response = func(*input_data)\n",
    "\n",
    "        def res(inp):\n",
    "            return inp if inp else \"Empty String\" if inp == \"\" else inp\n",
    "\n",
    "        if len(input_data) == 1:\n",
    "            input_str = res(input_data[0])\n",
    "        else:\n",
    "            input_str = f\"{res(input_data[0])}\"\n",
    "            for i in range(1, len(input_data)):\n",
    "                element = res(input_data[i])\n",
    "                input_str += f\" and {element}\"\n",
    "\n",
    "        if response == expect:\n",
    "            print(f\"\\033[92m ✔ \\033[92m {input_str} => {res(expect)}\")\n",
    "        else:\n",
    "            print(f\"\\033[91m ✖ \\033[91m {input_str} => {res(expect)}\\n \\033[0m ⚠ Expect {res(expect)} but got {res(response)} \\033[0m\")\n",
    "    except Exception as e:\n",
    "        print(e)\n"
   ]
  },
  {
   "cell_type": "markdown",
   "id": "759d04ba",
   "metadata": {},
   "source": [
    "**1-Write a Python program to calculate the length of a string using 2 ways"
   ]
  },
  {
   "cell_type": "code",
   "execution_count": 101,
   "id": "e434c950",
   "metadata": {},
   "outputs": [
    {
     "name": "stdout",
     "output_type": "stream",
     "text": [
      "\u001b[92m ✔ \u001b[92m Helloo => 6\n",
      "\u001b[92m ✔ \u001b[92m Instant => 7\n",
      "\u001b[92m ✔ \u001b[92m Empty String => 0\n"
     ]
    }
   ],
   "source": [
    "def stringCounter1(string):\n",
    "    # Get it directly from len() function\n",
    "    return len(string)\n",
    "\n",
    "# Unit Testing\n",
    "test(stringCounter1, [\"Helloo\"], 6)\n",
    "test(stringCounter1,[\"Instant\"], 7)\n",
    "test(stringCounter1, [\"\"], 0)\n",
    "\n",
    "# Test it your self ?\n",
    "# string1 = input(\"write the string:\")\n",
    "# print(\"String length:\", stringCounter2(string1))"
   ]
  },
  {
   "cell_type": "code",
   "execution_count": 102,
   "id": "7a2dfa32",
   "metadata": {
    "scrolled": false
   },
   "outputs": [
    {
     "name": "stdout",
     "output_type": "stream",
     "text": [
      "\u001b[92m ✔ \u001b[92m Helloo => 6\n",
      "\u001b[92m ✔ \u001b[92m Instant => 7\n",
      "\u001b[92m ✔ \u001b[92m Empty String => 0\n"
     ]
    }
   ],
   "source": [
    "def stringCounter2(string):\n",
    "    # Count every char in the string usning For in loop\n",
    "    count = 0\n",
    "    for char in string:\n",
    "        count += 1\n",
    "    return count\n",
    "\n",
    "# Unit Testing\n",
    "test(stringCounter2,[\"Helloo\"], 6)\n",
    "test(stringCounter2,[\"Instant\"], 7)\n",
    "test(stringCounter2, [\"\"], 0)\n",
    "\n",
    "# Test it your self ?\n",
    "# string1 = input(\"write the string:\")\n",
    "# print(\"String length:\", stringCounter2(string1))"
   ]
  },
  {
   "cell_type": "code",
   "execution_count": 103,
   "id": "430c9edf",
   "metadata": {},
   "outputs": [
    {
     "name": "stdout",
     "output_type": "stream",
     "text": [
      "\u001b[92m ✔ \u001b[92m Helloo => 6\n",
      "\u001b[92m ✔ \u001b[92m Instant => 7\n",
      "\u001b[92m ✔ \u001b[92m Empty String => 0\n"
     ]
    }
   ],
   "source": [
    "def stringCounter3(string):\n",
    "    # Count every char by remove char while the string become empty\n",
    "    count = 0\n",
    "    while string != \"\":\n",
    "        count += 1\n",
    "        string = string[:-1]\n",
    "    return count\n",
    "\n",
    "# Unit Testing\n",
    "test(stringCounter3,[\"Helloo\"], 6)\n",
    "test(stringCounter3, [\"Instant\"], 7)\n",
    "test(stringCounter3,[\"\"], 0)\n",
    "\n",
    "# Test it your self ?\n",
    "# string1 = input(\"write the string:\")\n",
    "# print(\"String length:\", stringCounter3(string1))"
   ]
  },
  {
   "cell_type": "markdown",
   "id": "d7cc9da7",
   "metadata": {},
   "source": [
    "**2-Write a Python program to get a string made of the first 2 and last 2 characters of a given string. If the string length is less than 2, return the empty string instead (\"##Sample String : 'w3resource'\n",
    "Expected Result : 'w3ce'\n",
    "##Sample String : 'w3'\n",
    "Expected Result : 'w3w3'\n",
    "##Sample String : ' w'\n",
    "Expected Result : Empty String)"
   ]
  },
  {
   "cell_type": "code",
   "execution_count": 104,
   "id": "dafa9dd8",
   "metadata": {},
   "outputs": [
    {
     "name": "stdout",
     "output_type": "stream",
     "text": [
      "\u001b[92m ✔ \u001b[92m w3resource => w3ce\n",
      "\u001b[92m ✔ \u001b[92m w3 => w3w3\n",
      "\u001b[92m ✔ \u001b[92m w => Empty String\n",
      "\u001b[92m ✔ \u001b[92m Empty String => Empty String\n"
     ]
    }
   ],
   "source": [
    "def printres(data):\n",
    "    length = len(data)\n",
    "    if length < 2:\n",
    "        return \"\"\n",
    "    elif length == 2:\n",
    "        return f'{data[:2]}' *2\n",
    "    else:\n",
    "        return f'{data[:2]}{data[-2:]}'\n",
    "\n",
    "# Unit testng\n",
    "test(printres,[\"w3resource\"], \"w3ce\")\n",
    "test(printres,[\"w3\"], \"w3w3\")\n",
    "test(printres,[\"w\"], \"\")\n",
    "test(printres,[\"\"], \"\")\n",
    "    \n",
    "# Test it your self ?\n",
    "# string1 = input(\"write the string: \")\n",
    "# print(printres(string1))"
   ]
  },
  {
   "cell_type": "markdown",
   "id": "1534f956",
   "metadata": {},
   "source": [
    "**3-Write a Python program to add 'ing' at the end of a given string (length should be at least 3). If the given string already ends with 'ing', add 'ly' instead. If the string length of the given string is less than 3, leave it unchanged. (Sample String : 'abc'\n",
    "Expected Result : 'abcing')"
   ]
  },
  {
   "cell_type": "code",
   "execution_count": 105,
   "id": "7ff8cec4",
   "metadata": {},
   "outputs": [
    {
     "name": "stdout",
     "output_type": "stream",
     "text": [
      "\u001b[92m ✔ \u001b[92m abc => abcing\n",
      "\u001b[92m ✔ \u001b[92m abcing => abcingly\n",
      "\u001b[92m ✔ \u001b[92m ab => ab\n",
      "\u001b[92m ✔ \u001b[92m Empty String => Empty String\n"
     ]
    }
   ],
   "source": [
    "def newWordIng(data):\n",
    "    if(len(data) < 3):\n",
    "        return data\n",
    "    else:\n",
    "        if(data[-3:] == \"ing\"):\n",
    "            return data + \"ly\"\n",
    "        else:\n",
    "            return data + \"ing\"\n",
    "\n",
    "# Unit testng\n",
    "test(newWordIng, [\"abc\"], \"abcing\")\n",
    "test(newWordIng, [\"abcing\"], \"abcingly\")\n",
    "test(newWordIng, [\"ab\"], \"ab\")\n",
    "test(newWordIng, [\"\"], \"\")\n",
    "\n",
    "# Test it your self ?\n",
    "# string1 = input(\"write the string: \")\n",
    "# print(newWordIng(string1))"
   ]
  },
  {
   "cell_type": "markdown",
   "id": "1c0a6627",
   "metadata": {},
   "source": [
    "**4-Write a Python function that takes a list of words and return the longest word and the length of the longest one\n",
    "(Longest word: Exercises\n",
    "Length of the longest word: 9)"
   ]
  },
  {
   "cell_type": "code",
   "execution_count": 106,
   "id": "397341d9",
   "metadata": {},
   "outputs": [
    {
     "name": "stdout",
     "output_type": "stream",
     "text": [
      "\u001b[92m ✔ \u001b[92m Hello this is the longest word length => Length of the longest word: 7\n",
      "\u001b[92m ✔ \u001b[92m Hello dear => Length of the longest word: 5\n",
      "\u001b[92m ✔ \u001b[92m Empty String => Length of the longest word: 0\n"
     ]
    }
   ],
   "source": [
    "def maximumLength(words):\n",
    "    wordsList = words.split()\n",
    "    maxLength = 0\n",
    "    for word in wordsList:\n",
    "        if(len(word) > maxLength):\n",
    "            maxLength = len(word)\n",
    "    return f\"Length of the longest word: {maxLength}\"\n",
    "\n",
    "# Unit testng\n",
    "test(maximumLength, [\"Hello this is the longest word length\"], \"Length of the longest word: 7\")\n",
    "test(maximumLength, [\"Hello dear\"], \"Length of the longest word: 5\")\n",
    "test(maximumLength, [\"\"], \"Length of the longest word: 0\")\n",
    "\n",
    "# Test it your self ?\n",
    "# stringList1 = input(\"Enter the words list content:\")\n",
    "# print(maximumLength(stringList1))"
   ]
  },
  {
   "cell_type": "code",
   "execution_count": 107,
   "id": "facaf3d9",
   "metadata": {},
   "outputs": [
    {
     "name": "stdout",
     "output_type": "stream",
     "text": [
      "\u001b[92m ✔ \u001b[92m Hello this is the longest word length => Length of the longest word: 7\n",
      "\u001b[92m ✔ \u001b[92m Hello dear => Length of the longest word: 5\n",
      "max() arg is an empty sequence\n"
     ]
    }
   ],
   "source": [
    "def maximumLength2(words):\n",
    "    wordsList = words.split()\n",
    "    maxWord = max(wordsList,key=len)\n",
    "    return f\"Length of the longest word: {len(maxWord)}\"\n",
    "\n",
    "# Unit testng\n",
    "test(maximumLength2, [\"Hello this is the longest word length\"], \"Length of the longest word: 7\")\n",
    "test(maximumLength2, [\"Hello dear\"], \"Length of the longest word: 5\")\n",
    "test(maximumLength2, [\"\"], \"Length of the longest word: 0\")\n",
    "\n",
    "# Test it your self ?\n",
    "# stringList1 = input(\"Enter the words list content:\")\n",
    "# print(maximumLength(stringList1))\n"
   ]
  },
  {
   "cell_type": "markdown",
   "id": "53a03a6a",
   "metadata": {},
   "source": [
    "**5-Write a Python program to change a given string to a newly string where the first and last chars have been exchanged using 2 ways (Sample String:abca  Expected Result:ebce)"
   ]
  },
  {
   "cell_type": "code",
   "execution_count": 108,
   "id": "fd327d2a",
   "metadata": {},
   "outputs": [
    {
     "name": "stdout",
     "output_type": "stream",
     "text": [
      "name 'alterChar' is not defined\n",
      "name 'alterChar' is not defined\n",
      "\u001b[92m ✔ \u001b[92m Hello dear and Empty String => Alternative character missed\n",
      "\u001b[92m ✔ \u001b[92m HH and m => String length less than 3 characters\n",
      "\u001b[92m ✔ \u001b[92m Empty String and m => String length less than 3 characters\n",
      "\u001b[92m ✔ \u001b[92m Empty String and Empty String => String length less than 3 characters & alternative character missed\n"
     ]
    }
   ],
   "source": [
    "def replaceFnLChar(stringData, alter):\n",
    "    if len(stringData) > 2:\n",
    "        if not alter:\n",
    "            return 'Alternative character missed'\n",
    "        else:\n",
    "            return alterChar + stringData[1:-1] + alterChar\n",
    "    else:\n",
    "        if not alter:\n",
    "            return 'String length less than 3 characters & alternative character missed'\n",
    "        else:\n",
    "            return 'String length less than 3 characters'\n",
    "\n",
    "# Unit testng\n",
    "test(replaceFnLChar, [\"Hello\",\"m\"], \"mellm\")\n",
    "test(replaceFnLChar, [\"Hello dear\",\"m\"], \"mello deam\")\n",
    "test(replaceFnLChar, [\"Hello dear\",\"\"], \"Alternative character missed\")\n",
    "test(replaceFnLChar, [\"HH\",\"m\"], \"String length less than 3 characters\")\n",
    "test(replaceFnLChar, [\"\",\"m\"], \"String length less than 3 characters\")\n",
    "test(replaceFnLChar, [\"\",\"\"], \"String length less than 3 characters & alternative character missed\")\n",
    "\n",
    "# # Test it your self ?\n",
    "# string1 = input(\"Enter the word:\")\n",
    "# alterChar = input(\"Enter the Alternative character:\")\n",
    "# print(replaceFnLChar(string1,alterChar))"
   ]
  },
  {
   "cell_type": "code",
   "execution_count": 109,
   "id": "285788b4",
   "metadata": {},
   "outputs": [
    {
     "name": "stdout",
     "output_type": "stream",
     "text": [
      "\u001b[92m ✔ \u001b[92m Hello and m => mellm\n",
      "\u001b[92m ✔ \u001b[92m Hello dear and m => mello deam\n",
      "\u001b[92m ✔ \u001b[92m Hello dear and Empty String => Alternative character missed\n",
      "\u001b[92m ✔ \u001b[92m HH and m => String length less than 3 characters\n",
      "\u001b[92m ✔ \u001b[92m Empty String and m => String length less than 3 characters\n",
      "\u001b[92m ✔ \u001b[92m Empty String and Empty String => String length less than 3 characters & alternative character missed\n"
     ]
    }
   ],
   "source": [
    "def replaceFnLChar2(stringData, alter):\n",
    "    length = len(stringData)\n",
    "    \n",
    "    \n",
    "    editedVersion = ''\n",
    "    if length > 2:\n",
    "        if not alter:\n",
    "            return 'Alternative character missed'\n",
    "        else:\n",
    "            for i in range(length):\n",
    "                if i == 0 or i == length - 1:\n",
    "                    editedVersion += alter\n",
    "                else:\n",
    "                    editedVersion += stringData[i]\n",
    "            return editedVersion\n",
    "    else: \n",
    "        if not alter:\n",
    "            return 'String length less than 3 characters & alternative character missed'\n",
    "        else:\n",
    "            return 'String length less than 3 characters'\n",
    "\n",
    "# Unit testng\n",
    "test(replaceFnLChar2, [\"Hello\",\"m\"], \"mellm\")\n",
    "test(replaceFnLChar2, [\"Hello dear\",\"m\"], \"mello deam\")\n",
    "test(replaceFnLChar2, [\"Hello dear\",\"\"], \"Alternative character missed\")\n",
    "test(replaceFnLChar2, [\"HH\",\"m\"], \"String length less than 3 characters\")\n",
    "test(replaceFnLChar2, [\"\",\"m\"], \"String length less than 3 characters\")\n",
    "test(replaceFnLChar2, [\"\",\"\"], \"String length less than 3 characters & alternative character missed\")\n",
    "\n",
    "\n",
    "# # Test it your self ?\n",
    "# string1 = input(\"Enter the word:\")\n",
    "# alterChar = input(\"Enter the Alternative character:\")\n",
    "# print(replaceFnLChar2(string1,alterChar))"
   ]
  },
  {
   "cell_type": "markdown",
   "id": "25f89808",
   "metadata": {},
   "source": [
    "**6-Write a Python program to remove characters that have odd index values in a given string (Sample String:abca Expected Result:ac)"
   ]
  },
  {
   "cell_type": "code",
   "execution_count": 110,
   "id": "05959bd7",
   "metadata": {},
   "outputs": [
    {
     "name": "stdout",
     "output_type": "stream",
     "text": [
      "\u001b[92m ✔ \u001b[92m CAoArArAeAcAtA ArAeAsAuAlAtA A:A)A => Correct result :)\n",
      "\u001b[92m ✔ \u001b[92m Empty String => Empty String\n"
     ]
    }
   ],
   "source": [
    "def removeOddIndexValue(stringData):\n",
    "    length = len(stringData)\n",
    "    editedVersion = ''\n",
    "    case = True\n",
    "    for char in stringData: \n",
    "        if(case):\n",
    "            editedVersion += char\n",
    "        case = not case\n",
    "    return editedVersion\n",
    "\n",
    "\n",
    "# Unit testng\n",
    "test(removeOddIndexValue, [\"CAoArArAeAcAtA ArAeAsAuAlAtA A:A)A\"], \"Correct result :)\")\n",
    "test(removeOddIndexValue, [\"\"], \"\")\n",
    "\n",
    "\n",
    "# # Test it your self ?\n",
    "# string1 = input(\"Enter the word:\")\n",
    "# print(removeOddIndexValue(string1))\n"
   ]
  },
  {
   "cell_type": "code",
   "execution_count": 111,
   "id": "7378a88e",
   "metadata": {},
   "outputs": [
    {
     "name": "stdout",
     "output_type": "stream",
     "text": [
      "\u001b[92m ✔ \u001b[92m CAoArArAeAcAtA ArAeAsAuAlAtA A:A)A => Correct result :)\n",
      "\u001b[92m ✔ \u001b[92m Empty String => Empty String\n"
     ]
    }
   ],
   "source": [
    "def removeOddIndexValue2(stringData):\n",
    "    length = len(stringData)\n",
    "    editedVersion = ''\n",
    "    for i in range(length):  \n",
    "        if i % 2 == 0:\n",
    "            editedVersion += stringData[i]\n",
    "    return editedVersion\n",
    "\n",
    "\n",
    "# Unit testng\n",
    "test(removeOddIndexValue2, [\"CAoArArAeAcAtA ArAeAsAuAlAtA A:A)A\"], \"Correct result :)\")\n",
    "test(removeOddIndexValue2, [\"\"], \"\")\n",
    "\n",
    "\n",
    "# # Test it your self ?\n",
    "# string1 = input(\"Enter the word:\")\n",
    "# print(removeOddIndexValue2(string1))"
   ]
  },
  {
   "cell_type": "code",
   "execution_count": 112,
   "id": "69c184d3",
   "metadata": {},
   "outputs": [
    {
     "name": "stdout",
     "output_type": "stream",
     "text": [
      "\u001b[92m ✔ \u001b[92m CAoArArAeAcAtA ArAeAsAuAlAtA A:A)A => Correct result :)\n",
      "\u001b[92m ✔ \u001b[92m Empty String => Empty String\n"
     ]
    }
   ],
   "source": [
    "def removeOddIndexValue3(stringData):\n",
    "    length = len(stringData)\n",
    "    editedVersion = ''\n",
    "    for i in range(0,length,2):  \n",
    "        editedVersion += stringData[i]\n",
    "    return editedVersion\n",
    "\n",
    "\n",
    "# Unit testng\n",
    "test(removeOddIndexValue3, [\"CAoArArAeAcAtA ArAeAsAuAlAtA A:A)A\"], \"Correct result :)\")\n",
    "test(removeOddIndexValue3, [\"\"], \"\")\n",
    "\n",
    "\n",
    "# # Test it your self ?\n",
    "# string1 = input(\"Enter the string:\")\n",
    "# print(removeOddIndexValue3(string1))"
   ]
  },
  {
   "cell_type": "markdown",
   "id": "eb16e898",
   "metadata": {},
   "source": [
    "**7-Write a Python program to count the occurrences of each word in a given sentence (Sample String:amr and ahmed are frindes but amr is the tallest Expected Result:2)"
   ]
  },
  {
   "cell_type": "code",
   "execution_count": 113,
   "id": "01ce6cf5",
   "metadata": {},
   "outputs": [
    {
     "name": "stdout",
     "output_type": "stream",
     "text": [
      "\u001b[92m ✔ \u001b[92m amr and ahmed are frindes but amr is the tallest => [2]\n",
      "\u001b[92m ✔ \u001b[92m amr and ahmed are frindes but amr is the tallest but not too much => [2]\n",
      "\u001b[92m ✔ \u001b[92m amr and ahmed are frindes but amr is the tallest but amr and ahmed are fit => [2, 3]\n"
     ]
    }
   ],
   "source": [
    "def countTheOccurrences(sentence):\n",
    "    words = sentence.split()\n",
    "    wordCount = 0\n",
    "    counter = {}   \n",
    "    for word in words:\n",
    "        if word in counter:\n",
    "            counter[word] += 1\n",
    "        else:\n",
    "            counter[word] = 1\n",
    "    resultSet = set()\n",
    "    for value in counter.values():\n",
    "        if value > 1:\n",
    "            resultSet.add(value)         \n",
    "    return [item for item in resultSet];\n",
    "\n",
    "# Unit testng\n",
    "## amr includes 2 times => 2 occurrences\n",
    "test(countTheOccurrences, [\"amr and ahmed are frindes but amr is the tallest\"], [2])\n",
    "## amr includes 2 times / but includes 2 times => 2 occurrences\n",
    "test(countTheOccurrences, [\"amr and ahmed are frindes but amr is the tallest but not too much\"], [2])\n",
    "## amr includes 3 times / but includes 2 times / are includes 2 times / ahmed includes 2 times => 2 & 3 occurrences\n",
    "test(countTheOccurrences, [\"amr and ahmed are frindes but amr is the tallest but amr and ahmed are fit\"], [2,3])\n",
    "\n",
    "# # Test it your self ?\n",
    "# string1 = input(\"Enter the sentence:\")\n",
    "# print(countTheOccurrences(string1))"
   ]
  },
  {
   "cell_type": "markdown",
   "id": "4e8125f1",
   "metadata": {},
   "source": [
    "**8-Write a Python script that takes input from the user and displays that input back in upper and lower cases"
   ]
  },
  {
   "cell_type": "code",
   "execution_count": 114,
   "id": "66c8f778",
   "metadata": {},
   "outputs": [
    {
     "name": "stdout",
     "output_type": "stream",
     "text": [
      "\u001b[92m ✔ \u001b[92m Hello world and uper => HELLO WORLD\n",
      "\u001b[92m ✔ \u001b[92m Hello world and lower => hello world\n",
      "\u001b[92m ✔ \u001b[92m Hello world and LOL => wrong case value\n"
     ]
    }
   ],
   "source": [
    "def getLowerAndUpperCases(sentence,case):\n",
    "    if(case == 'uper'):\n",
    "        return sentence.upper()\n",
    "    elif(case == 'lower'):\n",
    "        return sentence.lower()\n",
    "    else:\n",
    "        return 'wrong case value'\n",
    "        \n",
    "# Unit testng\n",
    "test(getLowerAndUpperCases, [\"Hello world\", \"uper\"], \"HELLO WORLD\")\n",
    "test(getLowerAndUpperCases, [\"Hello world\", \"lower\"], \"hello world\")\n",
    "test(getLowerAndUpperCases, [\"Hello world\", \"LOL\"], \"wrong case value\")\n",
    "\n",
    "# # Test it your self ?\n",
    "# string1 = input(\"Enter the sentence:\")\n",
    "# case = input(\"Enter the case:\")\n",
    "# print(getLowerAndUpperCases(string1, case))"
   ]
  },
  {
   "cell_type": "markdown",
   "id": "fcd68aa1",
   "metadata": {},
   "source": [
    "**9-Write a Python function to reverse a string if its length is a multiple of 4"
   ]
  },
  {
   "cell_type": "code",
   "execution_count": 115,
   "id": "0671a931",
   "metadata": {},
   "outputs": [
    {
     "name": "stdout",
     "output_type": "stream",
     "text": [
      "\u001b[92m ✔ \u001b[92m dlrow olleH => Hello world\n",
      "\u001b[92m ✔ \u001b[92m New => string should be greater than 4 characters\n",
      "\u001b[92m ✔ \u001b[92m Empty String => string should be greater than 4 characters\n"
     ]
    }
   ],
   "source": [
    "def reverseString(string):\n",
    "    editedVersion = \"\"\n",
    "    length = len(string)\n",
    "    if length > 4:\n",
    "        for i in range(length - 1, -1, -1):\n",
    "            editedVersion += string[i]\n",
    "        return editedVersion\n",
    "    else:\n",
    "        return 'string should be greater than 4 characters'\n",
    "\n",
    "\n",
    "# Unit testng\n",
    "test(reverseString, [\"dlrow olleH\"], \"Hello world\")\n",
    "test(reverseString, [\"New\"], \"string should be greater than 4 characters\")\n",
    "test(reverseString, [\"\"], \"string should be greater than 4 characters\")\n",
    "\n",
    "# # Test it your self ?\n",
    "# string1 = input(\"Enter the sentence:\")\n",
    "# print(reverseString(string1))"
   ]
  },
  {
   "cell_type": "code",
   "execution_count": 116,
   "id": "c5aa10fb",
   "metadata": {},
   "outputs": [
    {
     "name": "stdout",
     "output_type": "stream",
     "text": [
      "\u001b[92m ✔ \u001b[92m !dlrow olleH => Hello world!\n",
      "None\n",
      "\u001b[92m ✔ \u001b[92m New => string should be greater than 4 characters\n",
      "None\n",
      "\u001b[92m ✔ \u001b[92m Empty String => got Empty String\n",
      "None\n"
     ]
    }
   ],
   "source": [
    "def reverseString2(string):\n",
    "    length = len(string)\n",
    "    if length == 0:\n",
    "        return 'got Empty String'\n",
    "    if length % 4 == 0:\n",
    "        return string[::-1]\n",
    "    else:\n",
    "        return 'string should be greater than 4 characters'\n",
    "\n",
    "\n",
    "# Unit testng\n",
    "print(test(reverseString2, [\"!dlrow olleH\"], \"Hello world!\"))\n",
    "print(test(reverseString2, [\"New\"], \"string should be greater than 4 characters\"))\n",
    "print(test(reverseString2, [\"\"], \"got Empty String\"))\n",
    "\n",
    "# # Test it your self ?\n",
    "# string1 = input(\"Enter the sentence:\")\n",
    "# print(reverseString(string1))"
   ]
  },
  {
   "cell_type": "markdown",
   "id": "b577c68d",
   "metadata": {},
   "source": [
    "**10- Write a Python program to remove a newline in Python"
   ]
  },
  {
   "cell_type": "code",
   "execution_count": 117,
   "id": "e0c6525a",
   "metadata": {},
   "outputs": [
    {
     "name": "stdout",
     "output_type": "stream",
     "text": [
      "\u001b[92m ✔ \u001b[92m Hello,\n",
      "\n",
      "This is a\n",
      " multi-line\n",
      " string\n",
      " => Hello,This is a multi-line string\n"
     ]
    }
   ],
   "source": [
    "def removeNewLines(string):\n",
    "    return string.replace(\"\\n\", \"\")\n",
    "\n",
    "# Unit testng\n",
    "test(removeNewLines, [\"Hello,\\n\\nThis is a\\n multi-line\\n string\\n\"], \"Hello,This is a multi-line string\")\n",
    "\n",
    "# # Test it your self ?\n",
    "# string1 = input(\"Enter the sentence:\")\n",
    "# print(removeNewLines(string1))"
   ]
  },
  {
   "cell_type": "markdown",
   "id": "80db5ae0",
   "metadata": {},
   "source": [
    "**11-Write a Python program to check whether a string starts with specified characters"
   ]
  },
  {
   "cell_type": "code",
   "execution_count": 118,
   "id": "0cc4e03e",
   "metadata": {},
   "outputs": [
    {
     "name": "stdout",
     "output_type": "stream",
     "text": [
      "\u001b[92m ✔ \u001b[92m %ello => True\n",
      "\u001b[92m ✔ \u001b[92m Hello => False\n",
      "\u001b[92m ✔ \u001b[92m 3ello => False\n",
      "\u001b[92m ✔ \u001b[92m Empty String => False\n"
     ]
    }
   ],
   "source": [
    "def startsWithSpecificCharacter(string):\n",
    "    if len(string):\n",
    "        if  string[0].isalpha() or string[0].isdigit():\n",
    "            return False\n",
    "        else:\n",
    "            return True\n",
    "    else:\n",
    "        return False\n",
    "\n",
    "# Unit testng\n",
    "test(startsWithSpecificCharacter, [\"%ello\"], True)\n",
    "\n",
    "test(startsWithSpecificCharacter, [\"Hello\"], False)\n",
    "test(startsWithSpecificCharacter, [\"3ello\"], False)\n",
    "test(startsWithSpecificCharacter, [\"\"], False)\n",
    "\n",
    "# # Test it your self ?\n",
    "# string1 = input(\"Enter the sentence:\")\n",
    "# print(removeNewLines(string1))"
   ]
  },
  {
   "cell_type": "markdown",
   "id": "593a68db",
   "metadata": {},
   "source": [
    "**12- Write a Python program to add prefix text to all of the lines in a string"
   ]
  },
  {
   "cell_type": "code",
   "execution_count": 119,
   "id": "d2e46ada",
   "metadata": {},
   "outputs": [
    {
     "name": "stdout",
     "output_type": "stream",
     "text": [
      "\u001b[92m ✔ \u001b[92m \n",
      " Hello\n",
      " is nice\n",
      " working fine and instant => \n",
      "instant Hello\n",
      "instant is nice\n",
      "instant working fine\n"
     ]
    }
   ],
   "source": [
    "def removeNewLines(string, prefix):\n",
    "    return string.replace(\"\\n\", f\"\\n{prefix}\")\n",
    "\n",
    "# Unit testng\n",
    "test(removeNewLines, [\"\\n Hello\\n is nice\\n working fine\", \"instant\"], \"\\ninstant Hello\\ninstant is nice\\ninstant working fine\")\n",
    "\n",
    "# # Test it your self ?\n",
    "# string1 = input(\"Enter the sentence:\")\n",
    "# print(removeNewLines(string1))"
   ]
  },
  {
   "cell_type": "markdown",
   "id": "86fa1543",
   "metadata": {},
   "source": [
    "**13-Write a Python program to print the following numbers up to 2 decimal places"
   ]
  },
  {
   "cell_type": "code",
   "execution_count": 120,
   "id": "cd4a9d89",
   "metadata": {},
   "outputs": [
    {
     "name": "stdout",
     "output_type": "stream",
     "text": [
      "\u001b[92m ✔ \u001b[92m 3.142857142857143 => 3.14\n"
     ]
    }
   ],
   "source": [
    "def printNumbersFormat(number):\n",
    "    return round(number, 2)\n",
    "    \n",
    "# Unit testng\n",
    "test(printNumbersFormat, [22/7], 3.14)\n",
    "\n",
    "# # Test it your self ?\n",
    "# userInput = float(input(\"Enter the number:\"))\n",
    "# print(printNumbersFormat(userInput))\n"
   ]
  },
  {
   "cell_type": "markdown",
   "id": "452c0ab0",
   "metadata": {},
   "source": [
    "**14-Write a Python program to print the following numbers up to 2 decimal places with a sign"
   ]
  },
  {
   "cell_type": "code",
   "execution_count": 121,
   "id": "73e82479",
   "metadata": {},
   "outputs": [
    {
     "name": "stdout",
     "output_type": "stream",
     "text": [
      "\u001b[92m ✔ \u001b[92m -3.142857142857143 => -3.14\n",
      "\u001b[92m ✔ \u001b[92m 3.142857142857143 => +3.14\n"
     ]
    }
   ],
   "source": [
    "def printNumbersFormat(number):\n",
    "    return \"{:+.2f}\".format(number)\n",
    "    \n",
    "# Unit testng\n",
    "test(printNumbersFormat, [-22/7], '-3.14')\n",
    "test(printNumbersFormat, [+22/7], '+3.14')\n",
    "\n",
    "\n",
    "# # Test it your self ?\n",
    "# userInput = float(input(\"Enter the number:\"))\n",
    "# print(printNumbersFormat(userInput))"
   ]
  },
  {
   "cell_type": "markdown",
   "id": "32b1811a",
   "metadata": {},
   "source": [
    "**15-Write a Python program to display a number with a comma separator"
   ]
  },
  {
   "cell_type": "code",
   "execution_count": 122,
   "id": "f30fc0b6",
   "metadata": {},
   "outputs": [
    {
     "name": "stdout",
     "output_type": "stream",
     "text": [
      "\u001b[92m ✔ \u001b[92m 1000000000.566 => 1,000,000,000.566\n",
      "\u001b[92m ✔ \u001b[92m 1525755.66 => 1,525,755.66\n",
      "\u001b[92m ✔ \u001b[92m Hello => Invalid input\n"
     ]
    }
   ],
   "source": [
    "def printCommaNumbersFormat(number):\n",
    "    if type(number) == int or type(number) == float:\n",
    "        return \"{:,}\".format(number)\n",
    "    else:\n",
    "        return \"Invalid input\"\n",
    "\n",
    "\n",
    "# Unit testng\n",
    "test(printCommaNumbersFormat, [1000000000.566], '1,000,000,000.566')\n",
    "test(printCommaNumbersFormat, [1525755.66], '1,525,755.66')\n",
    "test(printCommaNumbersFormat, ['Hello'], 'Invalid input')\n",
    "\n",
    "\n",
    "\n",
    "# # Test it your self ?\n",
    "# userInput = float(input(\"Enter the number:\"))\n",
    "# print(printCommaNumbersFormat(userInput))"
   ]
  },
  {
   "cell_type": "markdown",
   "id": "0477f487",
   "metadata": {},
   "source": [
    "**16-Write a Python program to reverse a string using 2 ways"
   ]
  },
  {
   "cell_type": "code",
   "execution_count": 123,
   "id": "aa8beec8",
   "metadata": {},
   "outputs": [
    {
     "name": "stdout",
     "output_type": "stream",
     "text": [
      "\u001b[92m ✔ \u001b[92m OLLEH => HELLO\n"
     ]
    }
   ],
   "source": [
    "def reverseStringSlicing(string):\n",
    "    reversedString = string[::-1]\n",
    "    return reversedString\n",
    "\n",
    "# Unit testng\n",
    "test(reverseStringSlicing, [\"OLLEH\"], 'HELLO')\n",
    "\n",
    "\n",
    "# # Test it your self ?\n",
    "# userInput = float(input(\"Enter the string:\"))\n",
    "# print(reverseStringSlicing(userInput))\n"
   ]
  },
  {
   "cell_type": "code",
   "execution_count": 124,
   "id": "884cc1d1",
   "metadata": {},
   "outputs": [
    {
     "name": "stdout",
     "output_type": "stream",
     "text": [
      "\u001b[92m ✔ \u001b[92m OLLEH => HELLO\n"
     ]
    }
   ],
   "source": [
    "def reverseStringLoop(string):\n",
    "    reversedString = \"\"\n",
    "    for char in string:\n",
    "        reversedString = char + reversedString\n",
    "    return reversedString\n",
    "\n",
    "# Unit testng\n",
    "test(reverseStringLoop, [\"OLLEH\"], 'HELLO')\n",
    "\n",
    "\n",
    "# # Test it your self ?\n",
    "# userInput = float(input(\"Enter the string:\"))\n",
    "# print(reverseStringLoop(userInput))"
   ]
  },
  {
   "cell_type": "markdown",
   "id": "5afc3166",
   "metadata": {},
   "source": [
    " **17-Write a Python program to count repeated characters in a string (hint:use dictionary)"
   ]
  },
  {
   "cell_type": "code",
   "execution_count": 125,
   "id": "515a469c",
   "metadata": {},
   "outputs": [
    {
     "name": "stdout",
     "output_type": "stream",
     "text": [
      "\u001b[92m ✔ \u001b[92m aabcdddef => {'a': 2, 'b': 1, 'c': 1, 'd': 3, 'e': 1, 'f': 1}\n"
     ]
    }
   ],
   "source": [
    "def countRepeatedValues(inputString):\n",
    "    inputList = list(inputString)\n",
    "    counts = dict()\n",
    "    for char in inputList:\n",
    "        if char in counts:\n",
    "            counts[char] += 1\n",
    "        else:\n",
    "            counts[char] = 1\n",
    "    return counts\n",
    "\n",
    "# Unit testng\n",
    "test(countRepeatedValues, [\"aabcdddef\"], {'a': 2, 'b': 1, 'c': 1, 'd': 3, 'e': 1, 'f': 1})\n",
    "\n",
    "\n",
    "# # Test it your self ?\n",
    "# userInput = input(\"Enter the string:\")\n",
    "# print(countRepeatedValues(userInput))"
   ]
  },
  {
   "cell_type": "markdown",
   "id": "ae14e4e5",
   "metadata": {},
   "source": [
    "**18-Write a Python program to find the first non-repeating character in a given string"
   ]
  },
  {
   "cell_type": "code",
   "execution_count": 126,
   "id": "d73778e5",
   "metadata": {},
   "outputs": [
    {
     "name": "stdout",
     "output_type": "stream",
     "text": [
      "\u001b[92m ✔ \u001b[92m aabcdddef => b\n",
      "\u001b[92m ✔ \u001b[92m aabbcdddef => c\n",
      "\u001b[92m ✔ \u001b[92m aabbdddef => e\n",
      "\u001b[92m ✔ \u001b[92m aabbdddf => f\n",
      "\u001b[92m ✔ \u001b[92m aabbddd => no repeated chars\n"
     ]
    }
   ],
   "source": [
    "def firstNoneRepeatedChar(inputString):\n",
    "    for char in inputString:                  # Loop in the string \n",
    "        counter = 0\n",
    "        for i in range(len(inputString)):     # for each char loop to count the occurrences\n",
    "            if char == inputString[i]:    \n",
    "                counter += 1                  # if it found the char add one to the counter\n",
    "                if counter > 1:               # after adding one if the counter refere that it's repeated char\n",
    "                    break                     # break the loop to the next char checking loop\n",
    "        if counter == 1:                      # if it's equal to 1 so that's the first none repeated char return it \n",
    "            return char\n",
    "        else:                                 # else reset the counter and go to the next char in the string\n",
    "            counter = 0\n",
    "    return 'no repeated chars'\n",
    "\n",
    "# Unit testng\n",
    "test(firstNoneRepeatedChar, [\"aabcdddef\"], 'b')\n",
    "test(firstNoneRepeatedChar, [\"aabbcdddef\"], 'c')\n",
    "test(firstNoneRepeatedChar, [\"aabbdddef\"], 'e')\n",
    "test(firstNoneRepeatedChar, [\"aabbdddf\"], 'f')\n",
    "test(firstNoneRepeatedChar, [\"aabbddd\"], 'no repeated chars')\n",
    "\n",
    "# # Test it your self ?\n",
    "# userInput = input(\"Enter the string:\")\n",
    "# print(firstNoneRepeatedChar(userInput))"
   ]
  },
  {
   "cell_type": "code",
   "execution_count": 127,
   "id": "d99f65b9",
   "metadata": {},
   "outputs": [
    {
     "name": "stdout",
     "output_type": "stream",
     "text": [
      "\u001b[92m ✔ \u001b[92m aabcdddef => b\n",
      "\u001b[92m ✔ \u001b[92m aabbcdddef => c\n",
      "\u001b[92m ✔ \u001b[92m aabbdddef => e\n",
      "\u001b[92m ✔ \u001b[92m aabbdddf => f\n",
      "\u001b[92m ✔ \u001b[92m aabbddd => no repeated chars\n"
     ]
    }
   ],
   "source": [
    "def firstNoneRepeatedChar2(inputString):\n",
    "    charCount = {}\n",
    "    # Count the occurrences of each character in the inputString\n",
    "    for char in inputString:\n",
    "        charCount[char] = charCount.get(char, 0) + 1\n",
    "    \n",
    "    # Find the first non-repeated character\n",
    "    for char in inputString:\n",
    "        if charCount[char] == 1:\n",
    "            return char\n",
    "    \n",
    "    return 'no repeated chars'\n",
    "\n",
    "# Unit testng\n",
    "test(firstNoneRepeatedChar2, [\"aabcdddef\"], 'b')\n",
    "test(firstNoneRepeatedChar2, [\"aabbcdddef\"], 'c')\n",
    "test(firstNoneRepeatedChar2, [\"aabbdddef\"], 'e')\n",
    "test(firstNoneRepeatedChar2, [\"aabbdddf\"], 'f')\n",
    "test(firstNoneRepeatedChar2, [\"aabbddd\"], 'no repeated chars')\n",
    "\n",
    "# # Test it your self ?\n",
    "# userInput = input(\"Enter the string:\")\n",
    "# print(firstNoneRepeatedChar2(userInput))"
   ]
  },
  {
   "cell_type": "markdown",
   "id": "3adf5669",
   "metadata": {},
   "source": [
    "**19-Write a Python program to remove spaces from a given string"
   ]
  },
  {
   "cell_type": "code",
   "execution_count": 128,
   "id": "b4f22602",
   "metadata": {},
   "outputs": [
    {
     "name": "stdout",
     "output_type": "stream",
     "text": [
      "\u001b[92m ✔ \u001b[92m aa    ef => aaef\n",
      "\u001b[92m ✔ \u001b[92m aaef => aaef\n",
      "\u001b[92m ✔ \u001b[92m   aaef => aaef\n",
      "\u001b[92m ✔ \u001b[92m aaef   => aaef\n"
     ]
    }
   ],
   "source": [
    "def removeSpaces(string):\n",
    "    return string.replace(' ', '')\n",
    "\n",
    "# Unit testng\n",
    "test(removeSpaces, [\"aa    ef\"], 'aaef')\n",
    "test(removeSpaces, [\"aaef\"], 'aaef')\n",
    "test(removeSpaces, [\"  aaef\"], 'aaef')\n",
    "test(removeSpaces, [\"aaef  \"], 'aaef')\n",
    "\n",
    "\n",
    "# # Test it your self ?\n",
    "# userInput = input(\"Enter the string:\")\n",
    "# print(removeSpaces(userInput))\n",
    "    "
   ]
  },
  {
   "cell_type": "code",
   "execution_count": 129,
   "id": "58ad18d1",
   "metadata": {},
   "outputs": [
    {
     "name": "stdout",
     "output_type": "stream",
     "text": [
      "\u001b[92m ✔ \u001b[92m aa    ef => aaef\n",
      "\u001b[92m ✔ \u001b[92m aaef => aaef\n",
      "\u001b[92m ✔ \u001b[92m   aaef => aaef\n",
      "\u001b[92m ✔ \u001b[92m aaef   => aaef\n"
     ]
    }
   ],
   "source": [
    "def removeSpaces2(string):\n",
    "    editedVersion = ''\n",
    "    for char in string:\n",
    "        if char != \" \":\n",
    "            editedVersion += char\n",
    "    return editedVersion\n",
    "        \n",
    "\n",
    "# Unit testng\n",
    "test(removeSpaces, [\"aa    ef\"], 'aaef')\n",
    "test(removeSpaces, [\"aaef\"], 'aaef')\n",
    "test(removeSpaces, [\"  aaef\"], 'aaef')\n",
    "test(removeSpaces, [\"aaef  \"], 'aaef')\n",
    "\n",
    "\n",
    "# # Test it your self ?\n",
    "# userInput = input(\"Enter the string:\")\n",
    "# print(removeSpaces2(userInput))\n",
    "    "
   ]
  },
  {
   "cell_type": "markdown",
   "id": "734de60c",
   "metadata": {},
   "source": [
    "**20-Write a Python program to count the number of non-empty substrings of a given string"
   ]
  },
  {
   "cell_type": "code",
   "execution_count": 130,
   "id": "ef3f2274",
   "metadata": {
    "scrolled": true
   },
   "outputs": [
    {
     "name": "stdout",
     "output_type": "stream",
     "text": [
      "\u001b[92m ✔ \u001b[92m Empty String => 0\n",
      "\u001b[92m ✔ \u001b[92m Z => 1\n",
      "\u001b[92m ✔ \u001b[92m Hi => 3\n",
      "\u001b[92m ✔ \u001b[92m Ali => 6\n",
      "\u001b[92m ✔ \u001b[92m Saad => 10\n",
      "\u001b[92m ✔ \u001b[92m hello => 15\n"
     ]
    }
   ],
   "source": [
    "def nonEmptySubstrings(string):\n",
    "    count = 0\n",
    "    for i in range(1,len(string)+1):\n",
    "        for b in range(len(string), 0, -1):\n",
    "            if b - i >= 0:\n",
    "                count += 1\n",
    "    return count\n",
    "         \n",
    "        \n",
    "# Unit testng\n",
    "test(nonEmptySubstrings, [\"\"], 0)\n",
    "test(nonEmptySubstrings, [\"Z\"], 1)\n",
    "test(nonEmptySubstrings, [\"Hi\"], 3) # [\"H\", \"i\", \"Hi\"]\n",
    "test(nonEmptySubstrings, [\"Ali\"], 6) # [\"A\",\"l\",\"i\",\"Al\",\"li\",\"Ali\"]\n",
    "test(nonEmptySubstrings, [\"Saad\"], 10) # [\"S\",\"a\",\"a\",\"d\",\"Sa\",\"aa\",\"ad\",\"Saa\",\"aad\",\"Saad\"]\n",
    "test(nonEmptySubstrings, [\"hello\"], 15) # [\"h\" ,\"e\", \"l\", \"l\", \"o\", \"he\", \"el\",\"ll\",\"lo\",\"hel\",\"ell\",\"llo\",\"hell\",\"ello\", \"hello\"]\n",
    "\n",
    "\n",
    "# # Test it your self ?\n",
    "# userInput = input(\"Enter the string:\")\n",
    "# print(nonEmptySubstrings(userInput))"
   ]
  },
  {
   "cell_type": "code",
   "execution_count": 131,
   "id": "2af3bb27",
   "metadata": {},
   "outputs": [
    {
     "name": "stdout",
     "output_type": "stream",
     "text": [
      "\u001b[92m ✔ \u001b[92m Empty String => 0\n",
      "\u001b[92m ✔ \u001b[92m Z => 1\n",
      "\u001b[92m ✔ \u001b[92m Hi => 3\n",
      "\u001b[92m ✔ \u001b[92m Ali => 6\n",
      "\u001b[92m ✔ \u001b[92m Saad => 10\n",
      "\u001b[92m ✔ \u001b[92m hello => 15\n"
     ]
    }
   ],
   "source": [
    "def nonEmptySubstrings2(string):\n",
    "    n = len(string)\n",
    "    return n * (n + 1) // 2\n",
    "\n",
    "# Unit testng\n",
    "test(nonEmptySubstrings2, [\"\"], 0)\n",
    "test(nonEmptySubstrings2, [\"Z\"], 1)\n",
    "test(nonEmptySubstrings2, [\"Hi\"], 3) # [\"H\", \"i\", \"Hi\"]\n",
    "test(nonEmptySubstrings2, [\"Ali\"], 6) # [\"A\",\"l\",\"i\",\"Al\",\"li\",\"Ali\"]\n",
    "test(nonEmptySubstrings2, [\"Saad\"], 10) # [\"S\",\"a\",\"a\",\"d\",\"Sa\",\"aa\",\"ad\",\"Saa\",\"aad\",\"Saad\"]\n",
    "test(nonEmptySubstrings2, [\"hello\"], 15) # [\"h\" ,\"e\", \"l\", \"l\", \"o\", \"he\", \"el\",\"ll\",\"lo\",\"hel\",\"ell\",\"llo\",\"hell\",\"ello\", \"hello\"]\n",
    "\n",
    "\n",
    "# # Test it your self ?\n",
    "# userInput = input(\"Enter the string:\")\n",
    "# print(nonEmptySubstrings2(userInput))"
   ]
  },
  {
   "cell_type": "markdown",
   "id": "509998e2",
   "metadata": {},
   "source": [
    "**21-write a Python program to swap first and last element of any list."
   ]
  },
  {
   "cell_type": "code",
   "execution_count": 132,
   "id": "68692d7f",
   "metadata": {},
   "outputs": [
    {
     "name": "stdout",
     "output_type": "stream",
     "text": [
      "\u001b[92m ✔ \u001b[92m [19, 65, 23, 90] and 0 and 2 => [19, 65, 23, 90]\n",
      "\u001b[92m ✔ \u001b[92m [90, 65, 19, 23] and 0 and 3 => [90, 65, 19, 23]\n",
      "\u001b[92m ✔ \u001b[92m [23, 65, 19, 90] and 0 and 4 => out of range\n",
      "\u001b[92m ✔ \u001b[92m [23, 65, 19, 90] and -1 and 3 => out of range\n"
     ]
    }
   ],
   "source": [
    "def swapElement(inputList, x, y):\n",
    "    if not (0 <= x < len(inputList)) or not (0 <= y < len(inputList)): return 'out of range'\n",
    "    inputList[x], inputList[y] = inputList[y] , inputList[x]\n",
    "    return inputList\n",
    "\n",
    "# Unit testng\n",
    "test(swapElement, [ [23, 65, 19, 90], 0 , 2 ],  [19, 65, 23, 90])\n",
    "test(swapElement, [ [23, 65, 19, 90], 0 , 3 ],  [90, 65, 19, 23])\n",
    "test(swapElement, [ [23, 65, 19, 90], 0 , 4 ],  'out of range')\n",
    "test(swapElement, [ [23, 65, 19, 90], -1 , 3 ],  'out of range')\n",
    "\n",
    "# # Test it your self ?\n",
    "# userInput = input(\"Enter the List:\")\n",
    "# print(swapElement(userInput))"
   ]
  },
  {
   "cell_type": "markdown",
   "id": "959e0837",
   "metadata": {},
   "source": [
    "**22-Given a list in Python and provided the positions of the elements, write a program to swap the two elements in the list. (Input : List = [23, 65, 19, 90], pos1 = 1, pos2 = 3\n",
    "Output : [19, 65, 23, 90])"
   ]
  },
  {
   "cell_type": "code",
   "execution_count": 133,
   "id": "225d8c6d",
   "metadata": {},
   "outputs": [
    {
     "name": "stdout",
     "output_type": "stream",
     "text": [
      "\u001b[92m ✔ \u001b[92m [19, 90, 23, 65] and [[0, 2], [1, 3]] => [19, 90, 23, 65]\n",
      "\u001b[92m ✔ \u001b[92m [90, 19, 65, 23] and [[0, 3], [1, 2]] => [90, 19, 65, 23]\n",
      "\u001b[92m ✔ \u001b[92m [23, 65, 19, 90] and [[0, 4], [1, 2]] => out of range\n",
      "\u001b[92m ✔ \u001b[92m [90, 65, 19, 23] and [[0, 3], [-1, 3]] => out of range\n"
     ]
    }
   ],
   "source": [
    "def swapElement(inputList, positions):\n",
    "    for pos in positions:\n",
    "        x = pos[0]\n",
    "        y = pos[1]\n",
    "        if not (0 <= x < len(inputList)) or not (0 <= y < len(inputList)): return 'out of range'\n",
    "        inputList[x], inputList[y] = inputList[y] , inputList[x]\n",
    "    return inputList\n",
    "\n",
    "# Unit testng\n",
    "test(swapElement, [ [23, 65, 19, 90], [[0, 2], [1, 3]]],  [19, 90, 23, 65])\n",
    "test(swapElement, [ [23, 65, 19, 90], [[0, 3], [1, 2]]],  [90, 19, 65, 23])\n",
    "test(swapElement, [ [23, 65, 19, 90], [[0, 4], [1, 2]]],  'out of range')\n",
    "test(swapElement, [ [23, 65, 19, 90], [[0, 3], [-1, 3]]],  'out of range')\n",
    "\n",
    "# # Test it your self ?\n",
    "# userInput = input(\"Enter the List:\")\n",
    "# print(swapElement(userInput))"
   ]
  },
  {
   "cell_type": "markdown",
   "id": "66fc6682",
   "metadata": {},
   "source": [
    "**23- search for the all ways to know the length of the list"
   ]
  },
  {
   "cell_type": "code",
   "execution_count": 134,
   "id": "c68d76ae",
   "metadata": {},
   "outputs": [
    {
     "name": "stdout",
     "output_type": "stream",
     "text": [
      "\u001b[92m ✔ \u001b[92m [] => 0\n",
      "\u001b[92m ✔ \u001b[92m [1, 2, 3, 4] => 4\n",
      "\u001b[92m ✔ \u001b[92m [1, 2, 3, 4, 5, 6, 7, 8, 9] => 9\n"
     ]
    }
   ],
   "source": [
    "def listLength(inputList):\n",
    "    return len(inputList)\n",
    "\n",
    "# Unit testng\n",
    "test(listLength, [[]], 0)\n",
    "test(listLength, [[1,2,3,4]], 4)\n",
    "test(listLength, [[1,2,3,4,5,6,7,8,9]], 9)\n",
    "\n",
    "\n",
    "# # Test it your self ?\n",
    "# userInput = input(\"Enter the List:\")\n",
    "# print(listLength(userInput))"
   ]
  },
  {
   "cell_type": "code",
   "execution_count": 135,
   "id": "fb2fdcf3",
   "metadata": {},
   "outputs": [
    {
     "name": "stdout",
     "output_type": "stream",
     "text": [
      "\u001b[92m ✔ \u001b[92m [] => 0\n",
      "\u001b[92m ✔ \u001b[92m [1, 2, 3, 4] => 4\n",
      "\u001b[92m ✔ \u001b[92m [1, 2, 3, 4, 5, 6, 7, 8, 9] => 9\n"
     ]
    }
   ],
   "source": [
    "def listLength2(inputList):\n",
    "    counter = 0\n",
    "    for element in inputList:\n",
    "        counter += 1\n",
    "    return counter\n",
    "\n",
    "# Unit testng\n",
    "test(listLength2, [[]], 0)\n",
    "test(listLength2, [[1,2,3,4]], 4)\n",
    "test(listLength2, [[1,2,3,4,5,6,7,8,9]], 9)\n",
    "\n",
    "\n",
    "# # Test it your self ?\n",
    "# userInput = input(\"Enter the List:\")\n",
    "# print(listLength2(userInput))"
   ]
  },
  {
   "cell_type": "markdown",
   "id": "87910c15",
   "metadata": {},
   "source": [
    "**24-write a Python code to find the Maximum number of list of numbers."
   ]
  },
  {
   "cell_type": "code",
   "execution_count": 136,
   "id": "15f342de",
   "metadata": {},
   "outputs": [
    {
     "name": "stdout",
     "output_type": "stream",
     "text": [
      "\u001b[92m ✔ \u001b[92m [1, 10, 50, 90, 80, 100] => 100\n",
      "\u001b[92m ✔ \u001b[92m [1000, 90, 50, 150, 300] => 1000\n",
      "\u001b[92m ✔ \u001b[92m [100, 90, 5000, 150, 300] => 5000\n",
      "\u001b[92m ✔ \u001b[92m [100, 90, 5000.3, 150.5, 300] => 5000.3\n",
      "\u001b[92m ✔ \u001b[92m [100, 90, '5000', 150, 300] => Corrupted input\n",
      "\u001b[92m ✔ \u001b[92m [] => Empty List\n"
     ]
    }
   ],
   "source": [
    "def maximumNumber(inputList):\n",
    "    if len(inputList) == 0:\n",
    "        return 'Empty List'\n",
    "\n",
    "    for num in inputList:\n",
    "        if not isinstance(num, (int, float)):\n",
    "            return 'Corrupted input'\n",
    "\n",
    "    maximum = 0\n",
    "    for number in inputList:\n",
    "        if(number > maximum):\n",
    "            maximum = number\n",
    "    return maximum\n",
    "\n",
    "# Unit testng\n",
    "test(maximumNumber, [[1,10,50,90,80,100]], 100)\n",
    "test(maximumNumber, [[1000,90,50,150,300]], 1000)\n",
    "test(maximumNumber, [[100,90,5000,150,300]], 5000)\n",
    "test(maximumNumber, [[100,90,5000.3,150.5,300]], 5000.3)\n",
    "test(maximumNumber, [[100,90,'5000',150,300]], 'Corrupted input')\n",
    "test(maximumNumber, [[]], 'Empty List')\n",
    "\n",
    "# Test it your self ?\n",
    "# stringList1 = input(\"Enter the words list content:\")\n",
    "# print(maximumNumber(stringList1))"
   ]
  },
  {
   "cell_type": "code",
   "execution_count": 137,
   "id": "eb4fba1e",
   "metadata": {},
   "outputs": [
    {
     "name": "stdout",
     "output_type": "stream",
     "text": [
      "\u001b[92m ✔ \u001b[92m [1, 10, 50, 90, 80, 100] => 100\n",
      "\u001b[92m ✔ \u001b[92m [1000, 90, 50, 150, 300] => 1000\n",
      "\u001b[92m ✔ \u001b[92m [100, 90, 5000, 150, 300] => 5000\n",
      "\u001b[92m ✔ \u001b[92m [100, 90, 5000.3, 150.5, 300] => 5000.3\n",
      "\u001b[92m ✔ \u001b[92m [100, 90, '5000', 150, 300] => Corrupted input\n",
      "\u001b[92m ✔ \u001b[92m [] => Empty List\n"
     ]
    }
   ],
   "source": [
    "def maximumNumber2(inputList):\n",
    "    if len(inputList) == 0:\n",
    "        return 'Empty List'\n",
    "\n",
    "    for num in inputList:\n",
    "        if not isinstance(num, (int, float)):\n",
    "            return 'Corrupted input'\n",
    "            \n",
    "    return max(inputList)\n",
    "\n",
    "# Unit testng\n",
    "test(maximumNumber2, [[1,10,50,90,80,100]], 100)\n",
    "test(maximumNumber2, [[1000,90,50,150,300]], 1000)\n",
    "test(maximumNumber2, [[100,90,5000,150,300]], 5000)\n",
    "test(maximumNumber2, [[100,90,5000.3,150.5,300]], 5000.3)\n",
    "test(maximumNumber2, [[100,90,'5000',150,300]], 'Corrupted input')\n",
    "test(maximumNumber2, [[]], 'Empty List')\n",
    "\n",
    "# Test it your self ?\n",
    "# stringList1 = input(\"Enter the words list content:\")\n",
    "# print(maximumNumber2(stringList1))\n"
   ]
  },
  {
   "cell_type": "markdown",
   "id": "591eff9a",
   "metadata": {},
   "source": [
    "**25-write a Python code to find the Minimum number of list of numbers."
   ]
  },
  {
   "cell_type": "code",
   "execution_count": 138,
   "id": "21f8cbd6",
   "metadata": {},
   "outputs": [
    {
     "name": "stdout",
     "output_type": "stream",
     "text": [
      "\u001b[92m ✔ \u001b[92m [1, 10, 50, 90, 80, 100] => 1\n",
      "\u001b[92m ✔ \u001b[92m [1000, 90, 50, 150, 300] => 50\n",
      "\u001b[92m ✔ \u001b[92m [100, 90, 5000, 150, 300] => 90\n",
      "\u001b[92m ✔ \u001b[92m [100, 90.5, 5000.3, -15.5, 300] => -15.5\n",
      "\u001b[92m ✔ \u001b[92m [100, 90, '5000', 150, 300] => Corrupted input\n",
      "\u001b[92m ✔ \u001b[92m [] => Empty List\n"
     ]
    }
   ],
   "source": [
    "def minimumNumber(inputList):\n",
    "    if len(inputList) == 0:\n",
    "        return 'Empty List'\n",
    "\n",
    "    for num in inputList:\n",
    "        if not isinstance(num, (int, float)):\n",
    "            return 'Corrupted input'\n",
    "\n",
    "    minimum = 0\n",
    "    for number in inputList:\n",
    "        if minimum == 0 or number < minimum:\n",
    "            minimum = number\n",
    "    return minimum\n",
    "\n",
    "# Unit testng\n",
    "test(minimumNumber, [[1,10,50,90,80,100]], 1)\n",
    "test(minimumNumber, [[1000,90,50,150,300]], 50)\n",
    "test(minimumNumber, [[100,90,5000,150,300]], 90)\n",
    "test(minimumNumber, [[100,90.5,5000.3,-15.5,300]], -15.5)\n",
    "test(minimumNumber, [[100,90,'5000',150,300]], 'Corrupted input')\n",
    "test(minimumNumber, [[]], 'Empty List')\n",
    "\n",
    "# Test it your self ?\n",
    "# stringList1 = input(\"Enter the words list content:\")\n",
    "# print(minimumNumber(stringList1))"
   ]
  },
  {
   "cell_type": "code",
   "execution_count": 139,
   "id": "f05215c0",
   "metadata": {},
   "outputs": [
    {
     "name": "stdout",
     "output_type": "stream",
     "text": [
      "\u001b[92m ✔ \u001b[92m [1, 10, 50, 90, 80, 100] => 1\n",
      "\u001b[92m ✔ \u001b[92m [1000, 90, 50, 150, 300] => 50\n",
      "\u001b[92m ✔ \u001b[92m [100, 90, 5000, 150, 300] => 90\n",
      "\u001b[92m ✔ \u001b[92m [100, 90.5, 5000.3, -15.5, 300] => -15.5\n",
      "\u001b[92m ✔ \u001b[92m [100, 90, '5000', 150, 300] => Corrupted input\n",
      "\u001b[92m ✔ \u001b[92m [] => Empty List\n"
     ]
    }
   ],
   "source": [
    "def minimumNumber2(inputList):\n",
    "    if len(inputList) == 0:\n",
    "        return 'Empty List'\n",
    "\n",
    "    for num in inputList:\n",
    "        if not isinstance(num, (int, float)):\n",
    "            return 'Corrupted input'\n",
    "            \n",
    "    return min(inputList)\n",
    "\n",
    "# Unit testng\n",
    "test(minimumNumber2, [[1,10,50,90,80,100]], 1)\n",
    "test(minimumNumber2, [[1000,90,50,150,300]], 50)\n",
    "test(minimumNumber2, [[100,90,5000,150,300]], 90)\n",
    "test(minimumNumber2, [[100,90.5,5000.3,-15.5,300]], -15.5)\n",
    "test(minimumNumber2, [[100,90,'5000',150,300]], 'Corrupted input')\n",
    "test(minimumNumber2, [[]], 'Empty List')\n",
    "\n",
    "# Test it your self ?\n",
    "# stringList1 = input(\"Enter the words list content:\")\n",
    "# print(minimumNumber2(stringList1))"
   ]
  },
  {
   "cell_type": "markdown",
   "id": "96822d96",
   "metadata": {},
   "source": [
    "**26-search for if an elem is existing in list"
   ]
  },
  {
   "cell_type": "code",
   "execution_count": 143,
   "id": "51ca5c9a",
   "metadata": {},
   "outputs": [
    {
     "name": "stdout",
     "output_type": "stream",
     "text": [
      "\u001b[92m ✔ \u001b[92m [1, 10, 50, 90, 80, 100] and 100 => True\n",
      "\u001b[92m ✔ \u001b[92m [1000, 90, 50, 150, 300] and 50 => False\n",
      "\u001b[92m ✔ \u001b[92m [] and 1 => False\n"
     ]
    }
   ],
   "source": [
    "def findElementInList2(inputList, value):\n",
    "    for elem in inputList:\n",
    "        if elem == value:\n",
    "            return True\n",
    "    return False\n",
    "\n",
    "test(findElementInList2, [[1,10,50,90,80,100], 100], True)\n",
    "test(findElementInList2, [[1000,90,50,150,300], '50'], False)\n",
    "test(findElementInList2, [[], 1], False)\n"
   ]
  },
  {
   "cell_type": "markdown",
   "id": "d9557da7",
   "metadata": {},
   "source": [
    "**27- clear python list using different ways"
   ]
  },
  {
   "cell_type": "code",
   "execution_count": null,
   "id": "b69858a3",
   "metadata": {},
   "outputs": [],
   "source": []
  },
  {
   "cell_type": "markdown",
   "id": "52160e88",
   "metadata": {},
   "source": [
    "**28-remove duplicated elements from a list"
   ]
  },
  {
   "cell_type": "code",
   "execution_count": null,
   "id": "5e362228",
   "metadata": {},
   "outputs": [],
   "source": []
  },
  {
   "cell_type": "markdown",
   "id": "282337f7",
   "metadata": {},
   "source": [
    "**29-Given list values and keys list, convert these values to key value pairs in form of list of dictionaries. (Input : test_list = [“Gfg”, 3, “is”, 8], key_list = [“name”, “id”]\n",
    "Output : [{‘name’: ‘Gfg’, ‘id’: 3}, {‘name’: ‘is’, ‘id’: 8}])"
   ]
  },
  {
   "cell_type": "code",
   "execution_count": null,
   "id": "4d4e2d28",
   "metadata": {},
   "outputs": [],
   "source": []
  },
  {
   "cell_type": "markdown",
   "id": "c26b6e9f",
   "metadata": {},
   "source": [
    "**30-write a python program to count unique values inside a list using different ways"
   ]
  },
  {
   "cell_type": "code",
   "execution_count": null,
   "id": "72132667",
   "metadata": {},
   "outputs": [],
   "source": []
  },
  {
   "cell_type": "markdown",
   "id": "fed6677c",
   "metadata": {},
   "source": [
    "**31-write a python program Extract all elements with Frequency greater than K (Input : test_list = [4, 6, 4, 3, 3, 4, 3, 4, 3, 8], K = 3 \n",
    "Output : [4, 3] )"
   ]
  },
  {
   "cell_type": "code",
   "execution_count": null,
   "id": "d81f3f9d",
   "metadata": {},
   "outputs": [],
   "source": []
  },
  {
   "cell_type": "markdown",
   "id": "caca5224",
   "metadata": {},
   "source": [
    "**32-write a python program to find the Strongest Neighbour (Input: 1 2 2 3 4 5\n",
    "Output: 2 2 3 4 5)"
   ]
  },
  {
   "cell_type": "code",
   "execution_count": null,
   "id": "39fbd9b2",
   "metadata": {},
   "outputs": [],
   "source": []
  },
  {
   "cell_type": "markdown",
   "id": "a9fa8baf",
   "metadata": {},
   "source": [
    "**33-write a Python Program to print all Possible Combinations from the three Digits (Input: [1, 2, 3]\n",
    "Output:\n",
    "1 2 3 ##\n",
    "1 3 2 ##\n",
    "2 1 3 ##\n",
    "2 3 1 ##\n",
    "3 1 2 ##\n",
    "3 2 1)"
   ]
  },
  {
   "cell_type": "code",
   "execution_count": null,
   "id": "8c520a76",
   "metadata": {},
   "outputs": [],
   "source": []
  },
  {
   "cell_type": "markdown",
   "id": "5288bb89",
   "metadata": {},
   "source": [
    "**34-write a Python program to find all the Combinations in the list with the given condition (Input: test_list = [1,2,3] \n",
    "Output: \n",
    " [1], [1, 2], [1, 2, 3], [1, 3]\n",
    " [2], [2, 3], [3])"
   ]
  },
  {
   "cell_type": "code",
   "execution_count": null,
   "id": "59b89646",
   "metadata": {},
   "outputs": [],
   "source": []
  },
  {
   "cell_type": "markdown",
   "id": "39973705",
   "metadata": {},
   "source": [
    "**35-write a Python program to get all unique combinations of two Lists (List_1 = [\"a\",\"b\"]\n",
    "List_2 = [1,2]\n",
    "Unique_combination = [[('a',1),('b',2)],[('a',2),('b',1)]] )"
   ]
  },
  {
   "cell_type": "code",
   "execution_count": null,
   "id": "8c4ba22b",
   "metadata": {},
   "outputs": [],
   "source": []
  },
  {
   "cell_type": "markdown",
   "id": "25199af5",
   "metadata": {},
   "source": [
    "**36-Remove all the occurrences of an element from a list in Python (Input : 1 1 2 3 4 5 1 2 1 \n",
    "\n",
    "**Output : 2 3 4 5 2)"
   ]
  },
  {
   "cell_type": "code",
   "execution_count": null,
   "id": "6dc4c2ba",
   "metadata": {},
   "outputs": [],
   "source": []
  },
  {
   "cell_type": "markdown",
   "id": "bf1a3c93",
   "metadata": {},
   "source": [
    "**37-write a python program to Replace index elements with elements in Other List (The original list 1 is : [‘Gfg’, ‘is’, ‘best’] The original list 2 is : [0, 1, 2, 1, 0, 0, 0, 2, 1, 1, 2, 0] The lists after index elements replacements is : [‘Gfg’, ‘is’, ‘best’, ‘is’, ‘Gfg’, ‘Gfg’, ‘Gfg’, ‘best’, ‘is’, ‘is’, ‘best’, ‘Gfg’])"
   ]
  },
  {
   "cell_type": "code",
   "execution_count": null,
   "id": "fdd66a71",
   "metadata": {},
   "outputs": [],
   "source": []
  },
  {
   "cell_type": "markdown",
   "id": "af0f56e8",
   "metadata": {},
   "source": [
    "**38- write python program to Retain records with N occurrences of K(Input : test_list = [(4, 5, 5, 4), (5, 4, 3)], K = 5, N = 2 \n",
    "Output : [(4, 5, 5, 4)]\n",
    "Input : test_list = [(4, 5, 5, 4), (5, 4, 3)], K = 5, N = 3 \n",
    "Output : [] )"
   ]
  },
  {
   "cell_type": "code",
   "execution_count": null,
   "id": "67b06671",
   "metadata": {},
   "outputs": [],
   "source": []
  },
  {
   "cell_type": "markdown",
   "id": "de76f183",
   "metadata": {},
   "source": [
    "**39-write a Python Program to Sort the list according to the column using lambda\n",
    "array = [[1, 3, 3], [2, 1, 2], [3, 2, 1]]\n",
    "Output :\n",
    "Sorted array specific to column 0, [[1, 3, 3], [2, 1, 2], [3, 2, 1]]\n",
    "Sorted array specific to column 1, [[2, 1, 2], [3, 2, 1], [1, 3, 3]]\n",
    "Sorted array specific to column 2, [[3, 2, 1], [2, 1, 2], [1, 3, 3]]"
   ]
  },
  {
   "cell_type": "code",
   "execution_count": null,
   "id": "dc883308",
   "metadata": {},
   "outputs": [],
   "source": []
  },
  {
   "cell_type": "markdown",
   "id": "91944062",
   "metadata": {},
   "source": [
    "**40- write a program to Sort Python Dictionaries by Key or Value\n",
    "Input:\n",
    "{'ravi': 10, 'rajnish': 9, 'sanjeev': 15, 'yash': 2, 'suraj': 32}\n",
    "\n",
    "Output: \n",
    "{'rajnish': 9, 'ravi': 10, 'sanjeev': 15, 'suraj': 32, 'yash': 2}"
   ]
  },
  {
   "cell_type": "code",
   "execution_count": null,
   "id": "a96db4a0",
   "metadata": {},
   "outputs": [],
   "source": []
  },
  {
   "cell_type": "markdown",
   "id": "ec63c23a",
   "metadata": {},
   "source": [
    "**41-write python program to Remove keys with Values Greater than K ( Including mixed values )\n",
    "nput : test_dict = {‘Gfg’ : 3, ‘is’ : 7, ‘best’ : 10, ‘for’ : 6, ‘geeks’ : ‘CS’},\n",
    "K = 7 \n",
    "Output : {‘Gfg’ : 3, ‘for’ : 6, ‘geeks’ : ‘CS’}"
   ]
  },
  {
   "cell_type": "code",
   "execution_count": null,
   "id": "e39c3a40",
   "metadata": {},
   "outputs": [],
   "source": []
  },
  {
   "cell_type": "markdown",
   "id": "f143f0fe",
   "metadata": {},
   "source": [
    "**42-Write a Python program to concatenate the following dictionaries to create a new one\n",
    "\n",
    "Sample Dictionary :\n",
    "dic1={1:10, 2:20}\n",
    "dic2={3:30, 4:40}\n",
    "dic3={5:50,6:60}\n",
    "Expected Result : {1: 10, 2: 20, 3: 30, 4: 40, 5: 50, 6: 60}"
   ]
  },
  {
   "cell_type": "code",
   "execution_count": null,
   "id": "74ffdfea",
   "metadata": {},
   "outputs": [],
   "source": []
  },
  {
   "cell_type": "markdown",
   "id": "fb04c93c",
   "metadata": {},
   "source": [
    "**43-Write a Python program to iterate over dictionaries using for loops"
   ]
  },
  {
   "cell_type": "code",
   "execution_count": null,
   "id": "6aebc470",
   "metadata": {},
   "outputs": [],
   "source": []
  },
  {
   "cell_type": "markdown",
   "id": "5f491a9d",
   "metadata": {},
   "source": [
    "**44- Write a Python script to merge two Python dictionaries"
   ]
  },
  {
   "cell_type": "code",
   "execution_count": null,
   "id": "b8a14028",
   "metadata": {},
   "outputs": [],
   "source": []
  },
  {
   "cell_type": "markdown",
   "id": "216fc72d",
   "metadata": {},
   "source": [
    "**45-Write a Python program to get the maximum and minimum values of a dictionary values"
   ]
  },
  {
   "cell_type": "code",
   "execution_count": null,
   "id": "d6883f5f",
   "metadata": {},
   "outputs": [],
   "source": []
  },
  {
   "cell_type": "markdown",
   "id": "b6a53011",
   "metadata": {},
   "source": [
    "**46- Write a Python program to drop empty items from a given dictionary.\n",
    "Original Dictionary:\n",
    "{'c1': 'Red', 'c2': 'Green', 'c3': None}\n",
    "New Dictionary after dropping empty items:\n",
    "{'c1': 'Red', 'c2': 'Green'}"
   ]
  },
  {
   "cell_type": "code",
   "execution_count": null,
   "id": "b5c6fecf",
   "metadata": {},
   "outputs": [],
   "source": []
  },
  {
   "cell_type": "markdown",
   "id": "46d718c7",
   "metadata": {},
   "source": [
    "**47-Write a Python program to create a tuple of numbers and print one item"
   ]
  },
  {
   "cell_type": "code",
   "execution_count": null,
   "id": "13216ff5",
   "metadata": {},
   "outputs": [],
   "source": []
  },
  {
   "cell_type": "markdown",
   "id": "2be5b56b",
   "metadata": {},
   "source": [
    "**48-Write a Python program to unpack a tuple into several variables"
   ]
  },
  {
   "cell_type": "code",
   "execution_count": null,
   "id": "595f44be",
   "metadata": {},
   "outputs": [],
   "source": []
  },
  {
   "cell_type": "markdown",
   "id": "392388a7",
   "metadata": {},
   "source": [
    "**49-Write a Python program to add an item to a tuple"
   ]
  },
  {
   "cell_type": "code",
   "execution_count": null,
   "id": "54cc092e",
   "metadata": {},
   "outputs": [],
   "source": []
  },
  {
   "cell_type": "markdown",
   "id": "3e8fd124",
   "metadata": {},
   "source": [
    "**50-Write a Python program to convert a tuple to a string"
   ]
  },
  {
   "cell_type": "code",
   "execution_count": null,
   "id": "92a71ddc",
   "metadata": {},
   "outputs": [],
   "source": []
  },
  {
   "cell_type": "markdown",
   "id": "f4f64ef4",
   "metadata": {},
   "source": [
    "**51-Write a Python program to convert a list to a tuple"
   ]
  },
  {
   "cell_type": "code",
   "execution_count": null,
   "id": "210d56d3",
   "metadata": {},
   "outputs": [],
   "source": []
  },
  {
   "cell_type": "markdown",
   "id": "b1e00ef7",
   "metadata": {},
   "source": [
    "**52-Write a Python program to reverse a tuple"
   ]
  },
  {
   "cell_type": "code",
   "execution_count": null,
   "id": "f45bfdc7",
   "metadata": {},
   "outputs": [],
   "source": []
  },
  {
   "cell_type": "markdown",
   "id": "3cd347d1",
   "metadata": {},
   "source": [
    "**53-Write a Python program to replace the last value of tuples in a list.\n",
    "Sample list: [(10, 20, 40), (40, 50, 60), (70, 80, 90)]\n",
    "Expected Output: [(10, 20, 100), (40, 50, 100), (70, 80, 100)]"
   ]
  },
  {
   "cell_type": "code",
   "execution_count": null,
   "id": "3c4a2a4c",
   "metadata": {},
   "outputs": [],
   "source": []
  },
  {
   "cell_type": "markdown",
   "id": "76bb7b39",
   "metadata": {},
   "source": [
    "**54-Write a Python program to convert a given string list to a tuple\n",
    "Original string: python 3.0\n",
    "<class 'str'>\n",
    "Convert the said string to a tuple:\n",
    "('p', 'y', 't', 'h', 'o', 'n', '3', '.', '0')"
   ]
  },
  {
   "cell_type": "code",
   "execution_count": null,
   "id": "51951937",
   "metadata": {},
   "outputs": [],
   "source": []
  },
  {
   "cell_type": "markdown",
   "id": "5a1d5d97",
   "metadata": {},
   "source": [
    "**55-Write a Python program to calculate the average value of the numbers in a given tuple of tuples"
   ]
  },
  {
   "cell_type": "code",
   "execution_count": null,
   "id": "834e7992",
   "metadata": {},
   "outputs": [],
   "source": []
  },
  {
   "cell_type": "markdown",
   "id": "51edab9c",
   "metadata": {},
   "source": [
    "**56-Write a Python program to add member(s) to a set."
   ]
  },
  {
   "cell_type": "code",
   "execution_count": null,
   "id": "2b65df79",
   "metadata": {},
   "outputs": [],
   "source": []
  },
  {
   "cell_type": "markdown",
   "id": "965590cc",
   "metadata": {},
   "source": [
    "**57-Write a Python program to remove an item from a set if it is present in the set."
   ]
  },
  {
   "cell_type": "code",
   "execution_count": null,
   "id": "866bab28",
   "metadata": {},
   "outputs": [],
   "source": []
  },
  {
   "cell_type": "markdown",
   "id": "2b7cfed1",
   "metadata": {},
   "source": [
    "**58-Write a Python program to create an intersection,union,difference and symmetric difference of sets"
   ]
  },
  {
   "cell_type": "code",
   "execution_count": null,
   "id": "7f94b7fe",
   "metadata": {},
   "outputs": [],
   "source": []
  },
  {
   "cell_type": "markdown",
   "id": "b94931e2",
   "metadata": {},
   "source": [
    "**59-Write a Python program to find the maximum and minimum values in a set"
   ]
  },
  {
   "cell_type": "code",
   "execution_count": null,
   "id": "203f9600",
   "metadata": {},
   "outputs": [],
   "source": []
  },
  {
   "cell_type": "markdown",
   "id": "255fd554",
   "metadata": {},
   "source": [
    "**60- Write a Python program that finds all pairs of elements in a list whose sum is equal to a given value."
   ]
  },
  {
   "cell_type": "code",
   "execution_count": null,
   "id": "c2d94e1f",
   "metadata": {},
   "outputs": [],
   "source": []
  }
 ],
 "metadata": {
  "kernelspec": {
   "display_name": "Python 3",
   "language": "python",
   "name": "python3"
  },
  "language_info": {
   "codemirror_mode": {
    "name": "ipython",
    "version": 3
   },
   "file_extension": ".py",
   "mimetype": "text/x-python",
   "name": "python",
   "nbconvert_exporter": "python",
   "pygments_lexer": "ipython3",
   "version": "3.11.4"
  },
  "vscode": {
   "interpreter": {
    "hash": "ff4b1fca65a764b45acb559e482afe389d289dd599b9f8c5fd12ff5c2ea46a65"
   }
  }
 },
 "nbformat": 4,
 "nbformat_minor": 5
}
