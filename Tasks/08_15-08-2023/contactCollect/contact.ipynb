{
 "cells": [
  {
   "cell_type": "markdown",
   "id": "cbcdb520",
   "metadata": {},
   "source": [
    "## Task 08\n",
    "- **Get Data from file and create lists** "
   ]
  },
  {
   "cell_type": "code",
   "execution_count": 1,
   "id": "461241f4",
   "metadata": {},
   "outputs": [],
   "source": [
    "import re"
   ]
  },
  {
   "cell_type": "code",
   "execution_count": 2,
   "id": "5b25ceab",
   "metadata": {},
   "outputs": [],
   "source": [
    "class CollectData:\n",
    "    def __init__(self, path):\n",
    "        with open(path, 'r') as file:\n",
    "            self._content = file.read()\n",
    "            \n",
    "        self._lines = self._content.split('\\n')\n",
    "\n",
    "        namePattern = re.compile(r'\\b[A-Z][a-z]+ [A-Z][a-z]+\\b')\n",
    "        phonePattern = re.compile(r'01[012]\\d{8}')\n",
    "        emailPattern = re.compile(r'[a-zA-Z0-9._%+-]+@[a-zA-Z0-9.-]+\\.[a-zA-Z]{2,}')\n",
    "\n",
    "        self._names = []\n",
    "        self._phones = []\n",
    "        self._emails = []\n",
    "\n",
    "        for line in self._lines:\n",
    "            name_matches = namePattern.findall(line)\n",
    "            if name_matches:\n",
    "                self._names.append(name_matches[0])\n",
    "            else:\n",
    "                self._names.append(None)\n",
    "            \n",
    "            phone_matches = phonePattern.findall(line)\n",
    "            if phone_matches:\n",
    "                self._phones.append(phone_matches[0])\n",
    "            else:\n",
    "                self._phones.append(None)\n",
    "\n",
    "            email_matches = emailPattern.findall(line)\n",
    "            if email_matches:\n",
    "                self._emails.append(email_matches[0])\n",
    "            else:\n",
    "                self._emails.append(None)\n",
    "\n",
    "    def getNames(self):\n",
    "        return self._names\n",
    "    \n",
    "    def getPhones(self):\n",
    "        return self._phones\n",
    "    \n",
    "    def getEmails(self):\n",
    "        return self._emails\n",
    "    \n",
    "    def getContacts(self, noneName=False):\n",
    "        contacts = []\n",
    "        for i in range(len(self._names)):\n",
    "            if noneName or self._names[i]:\n",
    "                contact = {}\n",
    "                contact['name'] = self._names[i]\n",
    "                contact['phone'] = self._phones[i]\n",
    "                contact['email'] = self._emails[i]           \n",
    "                contacts.append(contact)\n",
    "        return contacts"
   ]
  },
  {
   "cell_type": "code",
   "execution_count": 3,
   "id": "67d425a9",
   "metadata": {},
   "outputs": [],
   "source": [
    "import csv"
   ]
  },
  {
   "cell_type": "code",
   "execution_count": 4,
   "id": "f5dd6ca3",
   "metadata": {},
   "outputs": [],
   "source": [
    "def create_file(path,listOfContacts):\n",
    "    with open(path, 'w', newline='') as file:\n",
    "        fieldnames = ['name', 'phone', 'email']\n",
    "        writer = csv.DictWriter(file, fieldnames=fieldnames)\n",
    "\n",
    "        writer.writeheader()\n",
    "        for row in listOfContacts:\n",
    "            writer.writerow(row)"
   ]
  },
  {
   "cell_type": "code",
   "execution_count": 5,
   "id": "f4e76953",
   "metadata": {},
   "outputs": [],
   "source": [
    "contacts = CollectData('data.txt')"
   ]
  },
  {
   "cell_type": "code",
   "execution_count": 6,
   "id": "9f2f059a",
   "metadata": {},
   "outputs": [
    {
     "data": {
      "text/plain": [
       "['Wael Fouad',\n",
       " 'Kareem Ali',\n",
       " 'Mohamed Elezabi',\n",
       " 'Ali Akram',\n",
       " 'Ahmed Fathy',\n",
       " 'Wael Salem',\n",
       " 'Sleem Qadry',\n",
       " 'Osama Omar',\n",
       " None,\n",
       " None,\n",
       " 'Sara Dawod',\n",
       " 'Emad Lamiy',\n",
       " 'Ghada Samy',\n",
       " 'Radwan Malek',\n",
       " 'Doaa Basiony',\n",
       " 'Hamed Wasem',\n",
       " 'Moaz Hatem',\n",
       " 'Tamer Badry',\n",
       " None]"
      ]
     },
     "execution_count": 6,
     "metadata": {},
     "output_type": "execute_result"
    }
   ],
   "source": [
    "contacts.getNames()"
   ]
  },
  {
   "cell_type": "code",
   "execution_count": 7,
   "id": "9665da6d",
   "metadata": {},
   "outputs": [
    {
     "data": {
      "text/plain": [
       "['01020205256',\n",
       " '01007174285',\n",
       " '01156465465',\n",
       " '01255889977',\n",
       " None,\n",
       " '01258795665',\n",
       " '01235986410',\n",
       " '01252987651',\n",
       " '01020205255',\n",
       " '01189465321',\n",
       " None,\n",
       " '01000225978',\n",
       " '01022557895',\n",
       " '01022559977',\n",
       " '01266498573',\n",
       " '01144685234',\n",
       " '01054623187',\n",
       " None,\n",
       " '01184953615']"
      ]
     },
     "execution_count": 7,
     "metadata": {},
     "output_type": "execute_result"
    }
   ],
   "source": [
    "contacts.getPhones()"
   ]
  },
  {
   "cell_type": "code",
   "execution_count": 8,
   "id": "c1d14f2d",
   "metadata": {},
   "outputs": [
    {
     "data": {
      "text/plain": [
       "['m_elezabi@du.edu.eg',\n",
       " 'Ali_khaled@gmail.com',\n",
       " None,\n",
       " 'Ali1990@gmail.com',\n",
       " 'Ahmed2003@yahoo.com',\n",
       " None,\n",
       " 'sleem@university.edu',\n",
       " None,\n",
       " 'samyFayek@du.edu.eg',\n",
       " 'tamer2003@gmail.com',\n",
       " 'sara.2556@gmail.com',\n",
       " 'Emad1988@yahoo.com',\n",
       " 'GhadaRamy@gmail.com',\n",
       " 'R215@gmail.com',\n",
       " 'Doaa222@yahoo.com',\n",
       " 'Hamed5566@hotmail.com',\n",
       " 'Moaz52@yahoo.com',\n",
       " 'Tamer@gmail.com',\n",
       " 'wagdy20@gmail.com']"
      ]
     },
     "execution_count": 8,
     "metadata": {},
     "output_type": "execute_result"
    }
   ],
   "source": [
    "contacts.getEmails()"
   ]
  },
  {
   "cell_type": "code",
   "execution_count": 9,
   "id": "afae0429",
   "metadata": {},
   "outputs": [],
   "source": [
    "contactList = contacts.getContacts(True)"
   ]
  },
  {
   "cell_type": "code",
   "execution_count": 10,
   "id": "5741ef56",
   "metadata": {},
   "outputs": [],
   "source": [
    "contactListOnlyWithName = contacts.getContacts()"
   ]
  },
  {
   "cell_type": "code",
   "execution_count": 11,
   "id": "335f5666",
   "metadata": {},
   "outputs": [],
   "source": [
    "create_file('contacts-allData.csv',contactList)"
   ]
  },
  {
   "cell_type": "code",
   "execution_count": 12,
   "id": "1dc51efd",
   "metadata": {},
   "outputs": [],
   "source": [
    "create_file('contacts-onlyWithName.csv',contactListOnlyWithName)"
   ]
  },
  {
   "cell_type": "code",
   "execution_count": 13,
   "id": "5cf23d33",
   "metadata": {},
   "outputs": [
    {
     "name": "stdout",
     "output_type": "stream",
     "text": [
      "{'name': 'Wael Fouad', 'phone': '01020205256', 'email': 'm_elezabi@du.edu.eg'}\n",
      "{'name': 'Kareem Ali', 'phone': '01007174285', 'email': 'Ali_khaled@gmail.com'}\n",
      "{'name': 'Mohamed Elezabi', 'phone': '01156465465', 'email': None}\n",
      "{'name': 'Ali Akram', 'phone': '01255889977', 'email': 'Ali1990@gmail.com'}\n",
      "{'name': 'Ahmed Fathy', 'phone': None, 'email': 'Ahmed2003@yahoo.com'}\n",
      "{'name': 'Wael Salem', 'phone': '01258795665', 'email': None}\n",
      "{'name': 'Sleem Qadry', 'phone': '01235986410', 'email': 'sleem@university.edu'}\n",
      "{'name': 'Osama Omar', 'phone': '01252987651', 'email': None}\n",
      "{'name': None, 'phone': '01020205255', 'email': 'samyFayek@du.edu.eg'}\n",
      "{'name': None, 'phone': '01189465321', 'email': 'tamer2003@gmail.com'}\n",
      "{'name': 'Sara Dawod', 'phone': None, 'email': 'sara.2556@gmail.com'}\n",
      "{'name': 'Emad Lamiy', 'phone': '01000225978', 'email': 'Emad1988@yahoo.com'}\n",
      "{'name': 'Ghada Samy', 'phone': '01022557895', 'email': 'GhadaRamy@gmail.com'}\n",
      "{'name': 'Radwan Malek', 'phone': '01022559977', 'email': 'R215@gmail.com'}\n",
      "{'name': 'Doaa Basiony', 'phone': '01266498573', 'email': 'Doaa222@yahoo.com'}\n",
      "{'name': 'Hamed Wasem', 'phone': '01144685234', 'email': 'Hamed5566@hotmail.com'}\n",
      "{'name': 'Moaz Hatem', 'phone': '01054623187', 'email': 'Moaz52@yahoo.com'}\n",
      "{'name': 'Tamer Badry', 'phone': None, 'email': 'Tamer@gmail.com'}\n",
      "{'name': None, 'phone': '01184953615', 'email': 'wagdy20@gmail.com'}\n"
     ]
    }
   ],
   "source": [
    "for contact in contactList:\n",
    "    print(contact)"
   ]
  },
  {
   "cell_type": "code",
   "execution_count": 14,
   "id": "f8dc6f93",
   "metadata": {},
   "outputs": [
    {
     "name": "stdout",
     "output_type": "stream",
     "text": [
      "{'name': 'Wael Fouad', 'phone': '01020205256', 'email': 'm_elezabi@du.edu.eg'}\n",
      "{'name': 'Kareem Ali', 'phone': '01007174285', 'email': 'Ali_khaled@gmail.com'}\n",
      "{'name': 'Mohamed Elezabi', 'phone': '01156465465', 'email': None}\n",
      "{'name': 'Ali Akram', 'phone': '01255889977', 'email': 'Ali1990@gmail.com'}\n",
      "{'name': 'Ahmed Fathy', 'phone': None, 'email': 'Ahmed2003@yahoo.com'}\n",
      "{'name': 'Wael Salem', 'phone': '01258795665', 'email': None}\n",
      "{'name': 'Sleem Qadry', 'phone': '01235986410', 'email': 'sleem@university.edu'}\n",
      "{'name': 'Osama Omar', 'phone': '01252987651', 'email': None}\n",
      "{'name': 'Sara Dawod', 'phone': None, 'email': 'sara.2556@gmail.com'}\n",
      "{'name': 'Emad Lamiy', 'phone': '01000225978', 'email': 'Emad1988@yahoo.com'}\n",
      "{'name': 'Ghada Samy', 'phone': '01022557895', 'email': 'GhadaRamy@gmail.com'}\n",
      "{'name': 'Radwan Malek', 'phone': '01022559977', 'email': 'R215@gmail.com'}\n",
      "{'name': 'Doaa Basiony', 'phone': '01266498573', 'email': 'Doaa222@yahoo.com'}\n",
      "{'name': 'Hamed Wasem', 'phone': '01144685234', 'email': 'Hamed5566@hotmail.com'}\n",
      "{'name': 'Moaz Hatem', 'phone': '01054623187', 'email': 'Moaz52@yahoo.com'}\n",
      "{'name': 'Tamer Badry', 'phone': None, 'email': 'Tamer@gmail.com'}\n"
     ]
    }
   ],
   "source": [
    "for contact in contactListOnlyWithName:\n",
    "    print(contact)"
   ]
  }
 ],
 "metadata": {
  "kernelspec": {
   "display_name": "Python 3 (ipykernel)",
   "language": "python",
   "name": "python3"
  },
  "language_info": {
   "codemirror_mode": {
    "name": "ipython",
    "version": 3
   },
   "file_extension": ".py",
   "mimetype": "text/x-python",
   "name": "python",
   "nbconvert_exporter": "python",
   "pygments_lexer": "ipython3",
   "version": "3.11.4"
  }
 },
 "nbformat": 4,
 "nbformat_minor": 5
}
